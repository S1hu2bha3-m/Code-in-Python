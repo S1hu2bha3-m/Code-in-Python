{
 "cells": [
  {
   "cell_type": "code",
   "execution_count": 1,
   "id": "5b160222-8e6f-4c35-8f59-40ef516965ad",
   "metadata": {},
   "outputs": [
    {
     "name": "stdout",
     "output_type": "stream",
     "text": [
      "1\n",
      "2\n",
      "3\n",
      "4\n",
      "5\n",
      "6\n",
      "7\n",
      "8\n",
      "9\n",
      "10\n"
     ]
    }
   ],
   "source": [
    "a = 1\n",
    "while a<=10:\n",
    "    print(a)\n",
    "    a = a+1"
   ]
  },
  {
   "cell_type": "code",
   "execution_count": 3,
   "id": "0953eb4d-caa6-4780-bf38-aa91257f7251",
   "metadata": {},
   "outputs": [
    {
     "data": {
      "text/plain": [
       "245"
      ]
     },
     "execution_count": 3,
     "metadata": {},
     "output_type": "execute_result"
    }
   ],
   "source": [
    "343-98"
   ]
  },
  {
   "cell_type": "code",
   "execution_count": 4,
   "id": "797582fa-7b11-4e6d-8595-97537b2f8753",
   "metadata": {},
   "outputs": [],
   "source": [
    "#sum of the number till some point"
   ]
  },
  {
   "cell_type": "code",
   "execution_count": 6,
   "id": "fda70622-6286-4fd9-8106-9ef95e343e0b",
   "metadata": {},
   "outputs": [
    {
     "name": "stdin",
     "output_type": "stream",
     "text": [
      "Enter your limit  10\n"
     ]
    },
    {
     "data": {
      "text/plain": [
       "55"
      ]
     },
     "execution_count": 6,
     "metadata": {},
     "output_type": "execute_result"
    }
   ],
   "source": [
    "n = int(input(\"Enter your limit \"))\n",
    "starting_point = 0\n",
    "counter = 1\n",
    "while counter<=n:\n",
    "    starting_point = starting_point + counter\n",
    "    counter = counter + 1\n",
    "starting_point\n",
    "    "
   ]
  },
  {
   "cell_type": "code",
   "execution_count": 3,
   "id": "9903079b-5a52-4d77-8720-abf02436ce2a",
   "metadata": {},
   "outputs": [
    {
     "name": "stdin",
     "output_type": "stream",
     "text": [
      "Enter your number 5\n"
     ]
    },
    {
     "data": {
      "text/plain": [
       "120"
      ]
     },
     "execution_count": 3,
     "metadata": {},
     "output_type": "execute_result"
    }
   ],
   "source": [
    "number = int(input(\"Enter your number\"))\n",
    "factorial = 1\n",
    "while number > 0:\n",
    "    factorial = factorial*number\n",
    "    number = number-1\n",
    "factorial"
   ]
  },
  {
   "cell_type": "code",
   "execution_count": 4,
   "id": "927bdf51-bddd-4aff-9f9e-1606b9198ae4",
   "metadata": {},
   "outputs": [],
   "source": [
    "#finonacci series"
   ]
  },
  {
   "cell_type": "code",
   "execution_count": 7,
   "id": "13a1fbbe-1e03-4be0-a5d0-6ee08798ded5",
   "metadata": {},
   "outputs": [
    {
     "name": "stdin",
     "output_type": "stream",
     "text": [
      "Enter number of element for looking 10\n"
     ]
    },
    {
     "name": "stdout",
     "output_type": "stream",
     "text": [
      "0\n",
      "1\n",
      "1\n",
      "2\n",
      "3\n",
      "5\n",
      "8\n",
      "13\n",
      "21\n",
      "34\n"
     ]
    }
   ],
   "source": [
    "number = int(input(\"Enter number of element for looking\"))\n",
    "a,b = 0,1\n",
    "counter=0\n",
    "while counter<number:\n",
    "    print(a)\n",
    "    c=a+b\n",
    "    a=b\n",
    "    b=c\n",
    "    counter = counter+1\n"
   ]
  },
  {
   "cell_type": "code",
   "execution_count": 10,
   "id": "02a14558-c7bc-4e15-be02-8969b2aeb57b",
   "metadata": {},
   "outputs": [
    {
     "name": "stdout",
     "output_type": "stream",
     "text": [
      "0\n",
      "1\n",
      "1\n",
      "2\n",
      "3\n",
      "5\n",
      "8\n",
      "13\n",
      "21\n",
      "34\n"
     ]
    }
   ],
   "source": [
    "a,b = 0,1\n",
    "for i in range(10):\n",
    "     print(a)\n",
    "     c=a+b\n",
    "     a=b\n",
    "     b=c"
   ]
  },
  {
   "cell_type": "code",
   "execution_count": 11,
   "id": "e1a0f1f1-e5a0-4c31-9c1c-0f8fefa3b4ca",
   "metadata": {},
   "outputs": [
    {
     "data": {
      "text/plain": [
       "'ahbuhs'"
      ]
     },
     "execution_count": 11,
     "metadata": {},
     "output_type": "execute_result"
    }
   ],
   "source": [
    "s = \"shubha\"\n",
    "s[::-1]"
   ]
  },
  {
   "cell_type": "code",
   "execution_count": 12,
   "id": "89a5abe0-2908-4ff3-ac2d-c0b413f4e115",
   "metadata": {},
   "outputs": [
    {
     "name": "stdin",
     "output_type": "stream",
     "text": [
      "enter your string reversal shubha\n"
     ]
    }
   ],
   "source": [
    "word = input(\"enter your string reversal\")\n"
   ]
  },
  {
   "cell_type": "code",
   "execution_count": 13,
   "id": "337bc9d7-57c2-4b73-b500-18a59fb66600",
   "metadata": {},
   "outputs": [
    {
     "name": "stdout",
     "output_type": "stream",
     "text": [
      "ahbuhs\n"
     ]
    }
   ],
   "source": [
    "reverse = \"\"\n",
    "length = len(word)\n",
    "while length > 0 :\n",
    "    reverse = reverse + word[length - 1]\n",
    "    length = length -1\n",
    "print(reverse)"
   ]
  },
  {
   "cell_type": "code",
   "execution_count": 14,
   "id": "45ed720e-f203-4fb6-859a-1a1bd512b53f",
   "metadata": {},
   "outputs": [],
   "source": [
    "#print table of numbers"
   ]
  },
  {
   "cell_type": "code",
   "execution_count": 16,
   "id": "73b67e47-2abe-4638-a9da-f037acddeadc",
   "metadata": {},
   "outputs": [
    {
     "name": "stdin",
     "output_type": "stream",
     "text": [
      "Enter your number 2\n"
     ]
    },
    {
     "name": "stdout",
     "output_type": "stream",
     "text": [
      "2 * 1 = 2\n",
      "2 * 2 = 4\n",
      "2 * 3 = 6\n",
      "2 * 4 = 8\n",
      "2 * 5 = 10\n",
      "2 * 6 = 12\n",
      "2 * 7 = 14\n",
      "2 * 8 = 16\n",
      "2 * 9 = 18\n",
      "2 * 10 = 20\n"
     ]
    }
   ],
   "source": [
    "n = int(input(\"Enter your number\"))\n",
    "i = 1\n",
    "while i<=10 :\n",
    "    result = n*i\n",
    "    print(n, \"*\" , i ,\"=\" ,result)\n",
    "    i = i+1"
   ]
  },
  {
   "cell_type": "code",
   "execution_count": 18,
   "id": "4ea9d253-faf8-4ab0-a010-edfdea0b8da3",
   "metadata": {},
   "outputs": [
    {
     "name": "stdout",
     "output_type": "stream",
     "text": [
      "1\n",
      "2\n",
      "3\n",
      "4\n",
      "this will be executed once your while complete is successfully\n"
     ]
    }
   ],
   "source": [
    "n = 5\n",
    "i = 1\n",
    "while i<n:\n",
    "    print(i)\n",
    "    if == 3\n",
    "    i = i+1\n",
    "else :\n",
    "    print(\"this will be executed once your while complete is successfully\")\n",
    "    "
   ]
  },
  {
   "cell_type": "code",
   "execution_count": 21,
   "id": "0240720d-9eff-419b-8f09-99508c1c91e4",
   "metadata": {},
   "outputs": [],
   "source": [
    "#comprehension "
   ]
  },
  {
   "cell_type": "code",
   "execution_count": 22,
   "id": "f1573b87-9eb2-4638-a7a9-5e92f86e05e7",
   "metadata": {},
   "outputs": [],
   "source": [
    "l = [1,2,3,4,554,64,65]"
   ]
  },
  {
   "cell_type": "code",
   "execution_count": 23,
   "id": "990ab0d1-09b9-4bd7-8a23-750ab72e1ba9",
   "metadata": {},
   "outputs": [],
   "source": [
    "l1 = []\n",
    "for i in l:\n",
    "    l1.append(i**2)"
   ]
  },
  {
   "cell_type": "code",
   "execution_count": 24,
   "id": "80237e8a-3d93-418b-bd70-d4f06f0862e9",
   "metadata": {},
   "outputs": [
    {
     "data": {
      "text/plain": [
       "[1, 4, 9, 16, 306916, 4096, 4225]"
      ]
     },
     "execution_count": 24,
     "metadata": {},
     "output_type": "execute_result"
    }
   ],
   "source": [
    "l1"
   ]
  },
  {
   "cell_type": "code",
   "execution_count": 25,
   "id": "d68cd46f-c4c2-4663-a872-b0bb16e5d98b",
   "metadata": {},
   "outputs": [
    {
     "data": {
      "text/plain": [
       "[1, 4, 9, 16, 306916, 4096, 4225]"
      ]
     },
     "execution_count": 25,
     "metadata": {},
     "output_type": "execute_result"
    }
   ],
   "source": [
    "[i**2 for i in l]"
   ]
  },
  {
   "cell_type": "code",
   "execution_count": 26,
   "id": "87ce6e15-b62b-49b1-8f7f-99e5a2683382",
   "metadata": {},
   "outputs": [
    {
     "data": {
      "text/plain": [
       "[2, 4, 554, 64]"
      ]
     },
     "execution_count": 26,
     "metadata": {},
     "output_type": "execute_result"
    }
   ],
   "source": [
    "[i for i in l if i%2==0]"
   ]
  },
  {
   "cell_type": "code",
   "execution_count": 27,
   "id": "61a79fda-e206-41f1-bfb8-cc866d140d06",
   "metadata": {},
   "outputs": [],
   "source": [
    "l1 = [\"shubham\",\"pwskills\",\"gupta\"]\n"
   ]
  },
  {
   "cell_type": "code",
   "execution_count": 28,
   "id": "96f0964c-172b-4d95-9cc6-419b2541ac80",
   "metadata": {},
   "outputs": [
    {
     "data": {
      "text/plain": [
       "['SHUBHAM', 'PWSKILLS', 'GUPTA']"
      ]
     },
     "execution_count": 28,
     "metadata": {},
     "output_type": "execute_result"
    }
   ],
   "source": [
    "[i.upper() for i in l1]"
   ]
  },
  {
   "cell_type": "code",
   "execution_count": 29,
   "id": "cb8a3dd2-e5e3-4acd-8667-37d650ece0ab",
   "metadata": {},
   "outputs": [
    {
     "data": {
      "text/plain": [
       "[1, 2, 3, 4, 554, 64, 65]"
      ]
     },
     "execution_count": 29,
     "metadata": {},
     "output_type": "execute_result"
    }
   ],
   "source": [
    "l"
   ]
  },
  {
   "cell_type": "code",
   "execution_count": 30,
   "id": "0a43b1d5-d3ad-4479-b634-b3bf45f8c7ec",
   "metadata": {},
   "outputs": [
    {
     "data": {
      "text/plain": [
       "<generator object <genexpr> at 0x7fb6b1b1f060>"
      ]
     },
     "execution_count": 30,
     "metadata": {},
     "output_type": "execute_result"
    }
   ],
   "source": [
    "(i**2 for i in l)"
   ]
  },
  {
   "cell_type": "code",
   "execution_count": 31,
   "id": "9ec1432b-edd8-47ff-be7f-1e6f3eb7fca3",
   "metadata": {},
   "outputs": [
    {
     "data": {
      "text/plain": [
       "[1, 4, 9, 16, 306916, 4096, 4225]"
      ]
     },
     "execution_count": 31,
     "metadata": {},
     "output_type": "execute_result"
    }
   ],
   "source": [
    "list(i**2 for i in l)"
   ]
  },
  {
   "cell_type": "code",
   "execution_count": 32,
   "id": "b95f3c11-a58e-4573-878b-649045bd3ea6",
   "metadata": {},
   "outputs": [],
   "source": [
    "d = {\"key1\" :1, \"key2\":2,\"key\":3}"
   ]
  },
  {
   "cell_type": "code",
   "execution_count": 33,
   "id": "09ac088f-f3eb-49a2-bc79-d7cebbc500ff",
   "metadata": {},
   "outputs": [
    {
     "data": {
      "text/plain": [
       "{'key1': 1, 'key2': 4, 'key': 9}"
      ]
     },
     "execution_count": 33,
     "metadata": {},
     "output_type": "execute_result"
    }
   ],
   "source": [
    "{k : v**2 for k , v in d.items()}"
   ]
  },
  {
   "cell_type": "code",
   "execution_count": 34,
   "id": "86b55375-815f-4a96-9b4b-fd3a439f3c87",
   "metadata": {},
   "outputs": [
    {
     "data": {
      "text/plain": [
       "{'key1': 1, 'key2': 2, 'key': 3}"
      ]
     },
     "execution_count": 34,
     "metadata": {},
     "output_type": "execute_result"
    }
   ],
   "source": [
    "d"
   ]
  },
  {
   "cell_type": "code",
   "execution_count": 36,
   "id": "5a5c84df-a25e-4382-b28f-3827410bb3d6",
   "metadata": {},
   "outputs": [
    {
     "data": {
      "text/plain": [
       "{'key2': 2, 'key': 3}"
      ]
     },
     "execution_count": 36,
     "metadata": {},
     "output_type": "execute_result"
    }
   ],
   "source": [
    "{k : v for k ,v in d.items() if v>1}"
   ]
  },
  {
   "cell_type": "code",
   "execution_count": 1,
   "id": "4f65b47e-fcb8-4917-9078-ddfdab892c53",
   "metadata": {},
   "outputs": [],
   "source": [
    " #Function"
   ]
  },
  {
   "cell_type": "code",
   "execution_count": 2,
   "id": "06fa12eb-7758-4570-9254-e1c21b846552",
   "metadata": {},
   "outputs": [
    {
     "name": "stdout",
     "output_type": "stream",
     "text": [
      "this is my passion\n"
     ]
    }
   ],
   "source": [
    "print(\"this is my passion\")\n"
   ]
  },
  {
   "cell_type": "code",
   "execution_count": 3,
   "id": "87fee550-cf06-48b7-87fe-9c5a5c798e11",
   "metadata": {},
   "outputs": [],
   "source": [
    "l = [12,34,5,6,7]"
   ]
  },
  {
   "cell_type": "code",
   "execution_count": 4,
   "id": "f5e308dc-681a-461c-a60a-6fe020aa0216",
   "metadata": {},
   "outputs": [
    {
     "data": {
      "text/plain": [
       "5"
      ]
     },
     "execution_count": 4,
     "metadata": {},
     "output_type": "execute_result"
    }
   ],
   "source": [
    "len(l)"
   ]
  },
  {
   "cell_type": "code",
   "execution_count": 5,
   "id": "4fa02a3a-c2ce-4203-900b-27db17097441",
   "metadata": {},
   "outputs": [
    {
     "data": {
      "text/plain": [
       "list"
      ]
     },
     "execution_count": 5,
     "metadata": {},
     "output_type": "execute_result"
    }
   ],
   "source": [
    "type(l)"
   ]
  },
  {
   "cell_type": "code",
   "execution_count": 7,
   "id": "7354fef9-42d5-40b7-b6d6-dee3d13918b2",
   "metadata": {},
   "outputs": [],
   "source": [
    "def test():\n",
    "    pass"
   ]
  },
  {
   "cell_type": "code",
   "execution_count": 8,
   "id": "959127d3-a48e-4364-98ed-ce1ca0e09434",
   "metadata": {},
   "outputs": [],
   "source": [
    "def test():\n",
    "    print(\"this my first function in python\")\n",
    "    "
   ]
  },
  {
   "cell_type": "code",
   "execution_count": 9,
   "id": "f06cb260-7974-4e47-9582-dd98c4f8ebab",
   "metadata": {},
   "outputs": [
    {
     "name": "stdout",
     "output_type": "stream",
     "text": [
      "this my first function in python\n"
     ]
    }
   ],
   "source": [
    "test()"
   ]
  },
  {
   "cell_type": "code",
   "execution_count": 11,
   "id": "0b6a9a23-760d-483b-9054-3b259d0b2001",
   "metadata": {},
   "outputs": [
    {
     "name": "stdout",
     "output_type": "stream",
     "text": [
      "this my first function in python\n"
     ]
    },
    {
     "ename": "TypeError",
     "evalue": "unsupported operand type(s) for +: 'NoneType' and 'str'",
     "output_type": "error",
     "traceback": [
      "\u001b[0;31m---------------------------------------------------------------------------\u001b[0m",
      "\u001b[0;31mTypeError\u001b[0m                                 Traceback (most recent call last)",
      "Cell \u001b[0;32mIn[11], line 1\u001b[0m\n\u001b[0;32m----> 1\u001b[0m \u001b[43mtest\u001b[49m\u001b[43m(\u001b[49m\u001b[43m)\u001b[49m\u001b[43m \u001b[49m\u001b[38;5;241;43m+\u001b[39;49m\u001b[43m \u001b[49m\u001b[38;5;124;43m\"\u001b[39;49m\u001b[38;5;124;43mshubh\u001b[39;49m\u001b[38;5;124;43m\"\u001b[39;49m\n",
      "\u001b[0;31mTypeError\u001b[0m: unsupported operand type(s) for +: 'NoneType' and 'str'"
     ]
    }
   ],
   "source": [
    "test() + \"shubh\""
   ]
  },
  {
   "cell_type": "code",
   "execution_count": 12,
   "id": "0ee8cdbc-94dc-4fae-b70a-38e05e3f33f4",
   "metadata": {},
   "outputs": [],
   "source": [
    "def test1():\n",
    "    return \"this is me\""
   ]
  },
  {
   "cell_type": "code",
   "execution_count": 13,
   "id": "d5661a5a-da43-4b55-8b5b-337ab87edd5c",
   "metadata": {},
   "outputs": [
    {
     "data": {
      "text/plain": [
       "'this is me'"
      ]
     },
     "execution_count": 13,
     "metadata": {},
     "output_type": "execute_result"
    }
   ],
   "source": [
    "test1()"
   ]
  },
  {
   "cell_type": "code",
   "execution_count": 14,
   "id": "eec9aff1-b7ab-44c8-8106-471d26648ae1",
   "metadata": {},
   "outputs": [
    {
     "data": {
      "text/plain": [
       "'this is meshubham'"
      ]
     },
     "execution_count": 14,
     "metadata": {},
     "output_type": "execute_result"
    }
   ],
   "source": [
    "test1()+\"shubham\""
   ]
  },
  {
   "cell_type": "code",
   "execution_count": 15,
   "id": "e2244862-0958-48ae-9986-4a5349f5fead",
   "metadata": {},
   "outputs": [],
   "source": [
    "def test2():\n",
    "    return \"shubham\",34,56,66,[34,56,44]\n"
   ]
  },
  {
   "cell_type": "code",
   "execution_count": 16,
   "id": "b18bf20d-2da5-4612-ab24-c4726782d952",
   "metadata": {},
   "outputs": [
    {
     "data": {
      "text/plain": [
       "('shubham', 34, 56, 66, [34, 56, 44])"
      ]
     },
     "execution_count": 16,
     "metadata": {},
     "output_type": "execute_result"
    }
   ],
   "source": [
    "test2()"
   ]
  },
  {
   "cell_type": "code",
   "execution_count": 18,
   "id": "dd107748-45d6-4d3c-9bdc-cf38814afdad",
   "metadata": {},
   "outputs": [],
   "source": [
    "a,b,c,d,e = test2()"
   ]
  },
  {
   "cell_type": "code",
   "execution_count": 19,
   "id": "79446c60-3bbb-4e22-87d3-00652a647850",
   "metadata": {},
   "outputs": [
    {
     "data": {
      "text/plain": [
       "'shubham'"
      ]
     },
     "execution_count": 19,
     "metadata": {},
     "output_type": "execute_result"
    }
   ],
   "source": [
    "a"
   ]
  },
  {
   "cell_type": "code",
   "execution_count": 20,
   "id": "2b6ce9e1-ec93-49a9-86aa-1cee8235c0c4",
   "metadata": {},
   "outputs": [
    {
     "data": {
      "text/plain": [
       "34"
      ]
     },
     "execution_count": 20,
     "metadata": {},
     "output_type": "execute_result"
    }
   ],
   "source": [
    "b"
   ]
  },
  {
   "cell_type": "code",
   "execution_count": 21,
   "id": "56709a38-f48c-4cb8-b816-6f10034a7d33",
   "metadata": {},
   "outputs": [
    {
     "data": {
      "text/plain": [
       "56"
      ]
     },
     "execution_count": 21,
     "metadata": {},
     "output_type": "execute_result"
    }
   ],
   "source": [
    "c"
   ]
  },
  {
   "cell_type": "code",
   "execution_count": 22,
   "id": "35558328-28f9-4998-97e8-dd6511173245",
   "metadata": {},
   "outputs": [
    {
     "data": {
      "text/plain": [
       "66"
      ]
     },
     "execution_count": 22,
     "metadata": {},
     "output_type": "execute_result"
    }
   ],
   "source": [
    "d"
   ]
  },
  {
   "cell_type": "code",
   "execution_count": 23,
   "id": "8ca270ee-2a36-493b-a330-01556ad8ba91",
   "metadata": {},
   "outputs": [
    {
     "data": {
      "text/plain": [
       "[34, 56, 44]"
      ]
     },
     "execution_count": 23,
     "metadata": {},
     "output_type": "execute_result"
    }
   ],
   "source": [
    "e"
   ]
  },
  {
   "cell_type": "code",
   "execution_count": 24,
   "id": "8936afe6-4e3a-409a-8007-c24db000cefc",
   "metadata": {},
   "outputs": [],
   "source": [
    "a=1\n",
    "b=4"
   ]
  },
  {
   "cell_type": "code",
   "execution_count": 25,
   "id": "edeadcff-ceb3-4ee7-84fe-a2214777e094",
   "metadata": {},
   "outputs": [],
   "source": [
    "a,b=1,4"
   ]
  },
  {
   "cell_type": "code",
   "execution_count": 26,
   "id": "71646650-0d91-4787-916f-3d516fe50ebb",
   "metadata": {},
   "outputs": [],
   "source": [
    "def test3():\n",
    "    a = 5+6/7\n",
    "    return a"
   ]
  },
  {
   "cell_type": "code",
   "execution_count": 27,
   "id": "586e2a16-f864-4a91-a1e9-8094f062a9fc",
   "metadata": {},
   "outputs": [
    {
     "data": {
      "text/plain": [
       "5.857142857142857"
      ]
     },
     "execution_count": 27,
     "metadata": {},
     "output_type": "execute_result"
    }
   ],
   "source": [
    "test3()"
   ]
  },
  {
   "cell_type": "code",
   "execution_count": 28,
   "id": "169d2930-bcb6-4855-9f8f-5bfbdc7b0b11",
   "metadata": {},
   "outputs": [],
   "source": [
    "def test4(a,b,c):\n",
    "    d = a+b/c\n",
    "    return d \n",
    "    "
   ]
  },
  {
   "cell_type": "code",
   "execution_count": 29,
   "id": "884b01f9-d331-47d9-b47a-22c2ea82482d",
   "metadata": {},
   "outputs": [
    {
     "ename": "TypeError",
     "evalue": "test4() missing 3 required positional arguments: 'a', 'b', and 'c'",
     "output_type": "error",
     "traceback": [
      "\u001b[0;31m---------------------------------------------------------------------------\u001b[0m",
      "\u001b[0;31mTypeError\u001b[0m                                 Traceback (most recent call last)",
      "Cell \u001b[0;32mIn[29], line 1\u001b[0m\n\u001b[0;32m----> 1\u001b[0m \u001b[43mtest4\u001b[49m\u001b[43m(\u001b[49m\u001b[43m)\u001b[49m\n",
      "\u001b[0;31mTypeError\u001b[0m: test4() missing 3 required positional arguments: 'a', 'b', and 'c'"
     ]
    }
   ],
   "source": [
    "test4()"
   ]
  },
  {
   "cell_type": "code",
   "execution_count": 30,
   "id": "7dbb7ee4-391d-44d7-97cb-ed372f0531de",
   "metadata": {},
   "outputs": [
    {
     "data": {
      "text/plain": [
       "4.833333333333333"
      ]
     },
     "execution_count": 30,
     "metadata": {},
     "output_type": "execute_result"
    }
   ],
   "source": [
    "test4(4,5,6)"
   ]
  },
  {
   "cell_type": "code",
   "execution_count": 31,
   "id": "dc82be98-6ce0-4e50-ae75-d3157089434c",
   "metadata": {},
   "outputs": [],
   "source": [
    "def test5(a,b):\n",
    "    return a+b\n",
    "    "
   ]
  },
  {
   "cell_type": "code",
   "execution_count": 32,
   "id": "7d836d96-392d-4702-abfe-02f583b62ed0",
   "metadata": {},
   "outputs": [
    {
     "data": {
      "text/plain": [
       "11"
      ]
     },
     "execution_count": 32,
     "metadata": {},
     "output_type": "execute_result"
    }
   ],
   "source": [
    "test5(5,6)"
   ]
  },
  {
   "cell_type": "code",
   "execution_count": 33,
   "id": "34d16cf1-cd07-4e98-a30c-08dbd1b8e02d",
   "metadata": {},
   "outputs": [
    {
     "data": {
      "text/plain": [
       "'shufhsdfhdjdj'"
      ]
     },
     "execution_count": 33,
     "metadata": {},
     "output_type": "execute_result"
    }
   ],
   "source": [
    "test5(\"shufhsdfh\",\"djdj\")"
   ]
  },
  {
   "cell_type": "code",
   "execution_count": 34,
   "id": "14c5dc13-2490-4c29-bff5-2644f5a2f29d",
   "metadata": {},
   "outputs": [
    {
     "data": {
      "text/plain": [
       "[1, 2, 3, 4, 2, 3, 4, 5]"
      ]
     },
     "execution_count": 34,
     "metadata": {},
     "output_type": "execute_result"
    }
   ],
   "source": [
    "test5([1,2,3,4],[2,3,4,5])"
   ]
  },
  {
   "cell_type": "code",
   "execution_count": 35,
   "id": "ad0e68d7-edfd-4726-875a-0da92ac75a4a",
   "metadata": {},
   "outputs": [],
   "source": [
    "l = [2,3,45,5,6,6,\"shubha\",\"gufus\",[324,4,5,5]]"
   ]
  },
  {
   "cell_type": "code",
   "execution_count": 36,
   "id": "1006b352-1006-4e1a-8ee2-8dcdf83485b1",
   "metadata": {},
   "outputs": [],
   "source": [
    "l1 = []\n",
    "for i in l:\n",
    "    if type(i) ==int or type(i) == float :\n",
    "        l1.append(i)"
   ]
  },
  {
   "cell_type": "code",
   "execution_count": 37,
   "id": "27df3428-acfa-46d8-b88e-911f62c47546",
   "metadata": {},
   "outputs": [
    {
     "data": {
      "text/plain": [
       "[2, 3, 45, 5, 6, 6]"
      ]
     },
     "execution_count": 37,
     "metadata": {},
     "output_type": "execute_result"
    }
   ],
   "source": [
    "l1"
   ]
  },
  {
   "cell_type": "code",
   "execution_count": 40,
   "id": "70cd02e0-b7d4-4568-a126-a70e174a9148",
   "metadata": {},
   "outputs": [],
   "source": [
    "def test6(l):\n",
    "    l1 = []\n",
    "    for i in l:\n",
    "        if type(i) ==int or type(i) == float :\n",
    "            l1.append(i)\n",
    "    return l1"
   ]
  },
  {
   "cell_type": "code",
   "execution_count": 41,
   "id": "8df2eb6d-b3b8-473e-b2c1-cd1ca50fda98",
   "metadata": {},
   "outputs": [
    {
     "data": {
      "text/plain": [
       "[2, 3, 45, 5, 6, 6, 2, 3, 45, 5, 6, 6]"
      ]
     },
     "execution_count": 41,
     "metadata": {},
     "output_type": "execute_result"
    }
   ],
   "source": [
    "l1"
   ]
  },
  {
   "cell_type": "code",
   "execution_count": 47,
   "id": "f66262a0-a1b0-436d-b256-c50beec0f8fa",
   "metadata": {},
   "outputs": [],
   "source": [
    "def test7(a):\n",
    "    \"\"\"this is my function to extract num data from list\"\"\"\n",
    "    \n",
    "    l = []\n",
    "    for i in a:\n",
    "        if type(i) == list:\n",
    "            for j in i :\n",
    "                l1.append(j)\n",
    "        else:\n",
    "            if type(i) == int or type(i) == float :\n",
    "                l.append(i)\n",
    "    return l      \n",
    "            "
   ]
  },
  {
   "cell_type": "code",
   "execution_count": 43,
   "id": "6e34bff4-98ab-47e8-ae0d-a2bbd25a4fbc",
   "metadata": {},
   "outputs": [
    {
     "data": {
      "text/plain": [
       "[2, 3, 45, 5, 6, 6, 'shubha', 'gufus', [324, 4, 5, 5]]"
      ]
     },
     "execution_count": 43,
     "metadata": {},
     "output_type": "execute_result"
    }
   ],
   "source": [
    "l"
   ]
  },
  {
   "cell_type": "code",
   "execution_count": 45,
   "id": "6f5fe0b0-49c3-43ab-9770-f604d38c062e",
   "metadata": {},
   "outputs": [
    {
     "data": {
      "text/plain": [
       "[2, 3, 45, 5, 6, 6]"
      ]
     },
     "execution_count": 45,
     "metadata": {},
     "output_type": "execute_result"
    }
   ],
   "source": [
    "test7()"
   ]
  },
  {
   "cell_type": "code",
   "execution_count": 46,
   "id": "b73b9f9e-4f4a-441d-a210-40f89a5eb5a4",
   "metadata": {},
   "outputs": [
    {
     "data": {
      "text/plain": [
       "[2, 3, 45, 5, 6, 6, 'shubha', 'gufus', [324, 4, 5, 5]]"
      ]
     },
     "execution_count": 46,
     "metadata": {},
     "output_type": "execute_result"
    }
   ],
   "source": [
    "l"
   ]
  },
  {
   "cell_type": "code",
   "execution_count": 48,
   "id": "5c54ea83-c2aa-49c1-820f-c7998cd2111a",
   "metadata": {},
   "outputs": [],
   "source": [
    "def test9(a,b):\n",
    "    return a+b"
   ]
  },
  {
   "cell_type": "code",
   "execution_count": 49,
   "id": "7a19b1df-82b4-49bf-96fc-b2b0f98acf73",
   "metadata": {},
   "outputs": [],
   "source": [
    "def test10(*args):\n",
    "    return args"
   ]
  },
  {
   "cell_type": "code",
   "execution_count": 50,
   "id": "4a0edafe-6513-461f-99aa-f2af5bc4aa8b",
   "metadata": {},
   "outputs": [
    {
     "data": {
      "text/plain": [
       "tuple"
      ]
     },
     "execution_count": 50,
     "metadata": {},
     "output_type": "execute_result"
    }
   ],
   "source": [
    "type(test10())"
   ]
  },
  {
   "cell_type": "code",
   "execution_count": 51,
   "id": "19d2258f-8438-4cd0-8530-7a274fb09543",
   "metadata": {},
   "outputs": [
    {
     "data": {
      "text/plain": [
       "(2, 3, 4, 5)"
      ]
     },
     "execution_count": 51,
     "metadata": {},
     "output_type": "execute_result"
    }
   ],
   "source": [
    "test10(2,3,4,5)"
   ]
  },
  {
   "cell_type": "code",
   "execution_count": 52,
   "id": "55551f86-6648-4e30-b0de-8ed46ab265f5",
   "metadata": {},
   "outputs": [
    {
     "data": {
      "text/plain": [
       "(4, 5, 6, 7, 7, 8, 'dhdjd', [3, 4, 5, 6, 6])"
      ]
     },
     "execution_count": 52,
     "metadata": {},
     "output_type": "execute_result"
    }
   ],
   "source": [
    "test10(4,5,6,7,7,8,\"dhdjd\",[3,4,5,6,6])"
   ]
  },
  {
   "cell_type": "code",
   "execution_count": 53,
   "id": "14b8f179-9840-44cd-ada5-7560ad699807",
   "metadata": {},
   "outputs": [],
   "source": [
    "def test11(*djdjf):\n",
    "    return djdjf"
   ]
  },
  {
   "cell_type": "code",
   "execution_count": 54,
   "id": "03ccfe5f-823b-410a-9826-4108bffc6f70",
   "metadata": {},
   "outputs": [
    {
     "data": {
      "text/plain": [
       "(1, 2, 3, 4)"
      ]
     },
     "execution_count": 54,
     "metadata": {},
     "output_type": "execute_result"
    }
   ],
   "source": [
    "test11(1,2,3,4)"
   ]
  },
  {
   "cell_type": "code",
   "execution_count": 55,
   "id": "f5870886-1247-4cf3-8bbf-b82f28e6663e",
   "metadata": {},
   "outputs": [],
   "source": [
    "def test12(*args,a):\n",
    "    return args,a"
   ]
  },
  {
   "cell_type": "code",
   "execution_count": 56,
   "id": "9cd7ce91-651d-4322-8dbd-b0b411c2b583",
   "metadata": {},
   "outputs": [
    {
     "ename": "TypeError",
     "evalue": "test12() missing 1 required keyword-only argument: 'a'",
     "output_type": "error",
     "traceback": [
      "\u001b[0;31m---------------------------------------------------------------------------\u001b[0m",
      "\u001b[0;31mTypeError\u001b[0m                                 Traceback (most recent call last)",
      "Cell \u001b[0;32mIn[56], line 1\u001b[0m\n\u001b[0;32m----> 1\u001b[0m \u001b[43mtest12\u001b[49m\u001b[43m(\u001b[49m\u001b[38;5;241;43m1\u001b[39;49m\u001b[43m,\u001b[49m\u001b[38;5;241;43m2\u001b[39;49m\u001b[43m,\u001b[49m\u001b[38;5;241;43m3\u001b[39;49m\u001b[43m,\u001b[49m\u001b[38;5;241;43m4\u001b[39;49m\u001b[43m)\u001b[49m\n",
      "\u001b[0;31mTypeError\u001b[0m: test12() missing 1 required keyword-only argument: 'a'"
     ]
    }
   ],
   "source": [
    "test12(1,2,3,4)"
   ]
  },
  {
   "cell_type": "code",
   "execution_count": 57,
   "id": "1c1ad09e-f2ca-4161-9938-bdc5e57cc6e6",
   "metadata": {},
   "outputs": [
    {
     "data": {
      "text/plain": [
       "((1, 2, 3, 4), 56)"
      ]
     },
     "execution_count": 57,
     "metadata": {},
     "output_type": "execute_result"
    }
   ],
   "source": [
    "test12(1,2,3,4 , a = 56)"
   ]
  },
  {
   "cell_type": "code",
   "execution_count": 61,
   "id": "e4e60260-7824-4903-9453-36734467b869",
   "metadata": {},
   "outputs": [],
   "source": [
    "def test13(c,d,a=34,b=2):\n",
    "    return a,b,c,d"
   ]
  },
  {
   "cell_type": "code",
   "execution_count": 62,
   "id": "887b2b61-4236-4774-950f-ea57c96ca416",
   "metadata": {},
   "outputs": [
    {
     "data": {
      "text/plain": [
       "(34, 2, 3, 5)"
      ]
     },
     "execution_count": 62,
     "metadata": {},
     "output_type": "execute_result"
    }
   ],
   "source": [
    "test13(3,5)"
   ]
  },
  {
   "cell_type": "code",
   "execution_count": 64,
   "id": "c72f4e2e-1dd6-4099-8257-52779e692f58",
   "metadata": {},
   "outputs": [
    {
     "data": {
      "text/plain": [
       "(54, 2, 2, 4)"
      ]
     },
     "execution_count": 64,
     "metadata": {},
     "output_type": "execute_result"
    }
   ],
   "source": [
    "test13(2,4 , a =54)"
   ]
  },
  {
   "cell_type": "code",
   "execution_count": 65,
   "id": "eaa0c291-dae7-487a-913e-62188703be5d",
   "metadata": {},
   "outputs": [],
   "source": [
    "def test14(**kwargs):\n",
    "    return kwargs"
   ]
  },
  {
   "cell_type": "code",
   "execution_count": 66,
   "id": "93652809-00bc-4c20-8b84-b2b8d5f191c4",
   "metadata": {},
   "outputs": [
    {
     "data": {
      "text/plain": [
       "{}"
      ]
     },
     "execution_count": 66,
     "metadata": {},
     "output_type": "execute_result"
    }
   ],
   "source": [
    "test14()"
   ]
  },
  {
   "cell_type": "code",
   "execution_count": 67,
   "id": "33a7e281-f69d-45a4-94ae-5e52d2f80712",
   "metadata": {},
   "outputs": [
    {
     "data": {
      "text/plain": [
       "dict"
      ]
     },
     "execution_count": 67,
     "metadata": {},
     "output_type": "execute_result"
    }
   ],
   "source": [
    "type(test14())"
   ]
  },
  {
   "cell_type": "code",
   "execution_count": 68,
   "id": "09f4fd7c-9bdc-456e-80bc-242535a04adc",
   "metadata": {},
   "outputs": [
    {
     "data": {
      "text/plain": [
       "{'a': [1, 2, 3, 4], 'b': 'shubham', 'c': 43.43}"
      ]
     },
     "execution_count": 68,
     "metadata": {},
     "output_type": "execute_result"
    }
   ],
   "source": [
    "test14(a = [1,2,3,4],b=\"shubham\",c = 43.43)"
   ]
  },
  {
   "cell_type": "code",
   "execution_count": null,
   "id": "fd0e200b-7fd6-4fa1-acc1-695cff205eef",
   "metadata": {},
   "outputs": [],
   "source": []
  }
 ],
 "metadata": {
  "kernelspec": {
   "display_name": "Python 3 (ipykernel)",
   "language": "python",
   "name": "python3"
  },
  "language_info": {
   "codemirror_mode": {
    "name": "ipython",
    "version": 3
   },
   "file_extension": ".py",
   "mimetype": "text/x-python",
   "name": "python",
   "nbconvert_exporter": "python",
   "pygments_lexer": "ipython3",
   "version": "3.10.8"
  }
 },
 "nbformat": 4,
 "nbformat_minor": 5
}
