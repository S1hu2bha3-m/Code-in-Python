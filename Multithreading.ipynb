{
 "cells": [
  {
   "cell_type": "code",
   "execution_count": 1,
   "id": "84899d71-976f-40e4-8ac7-b5a8b498e8e5",
   "metadata": {},
   "outputs": [],
   "source": [
    "import threading"
   ]
  },
  {
   "cell_type": "code",
   "execution_count": 2,
   "id": "f411b7ee-addc-4758-a1e7-4701062af016",
   "metadata": {},
   "outputs": [],
   "source": [
    "def test(id):\n",
    "    print(\"program start %d \"% id)"
   ]
  },
  {
   "cell_type": "code",
   "execution_count": 3,
   "id": "53e29f9c-ca88-458f-81ec-3a945a242893",
   "metadata": {},
   "outputs": [
    {
     "name": "stdout",
     "output_type": "stream",
     "text": [
      "program start 54 \n"
     ]
    }
   ],
   "source": [
    "test(54)"
   ]
  },
  {
   "cell_type": "code",
   "execution_count": 4,
   "id": "8726159b-dc57-4f6a-b4b8-b6bcc856841e",
   "metadata": {},
   "outputs": [],
   "source": [
    "thread = [threading.Thread(target=test , args = (i,) )for i in range(10)]"
   ]
  },
  {
   "cell_type": "code",
   "execution_count": 5,
   "id": "bbe63b73-77f5-4f3b-922e-6fbc82bd7cde",
   "metadata": {},
   "outputs": [
    {
     "name": "stdout",
     "output_type": "stream",
     "text": [
      "program start 0 \n",
      "program start 1 \n",
      "program start 2 \n",
      "program start 3 \n",
      "program start 4 \n",
      "program start 5 \n",
      "program start 6 \n",
      "program start 7 \n",
      "program start 8 \n",
      "program start 9 \n"
     ]
    }
   ],
   "source": [
    "for t in thread :\n",
    "    t.start()"
   ]
  },
  {
   "cell_type": "code",
   "execution_count": 6,
   "id": "5b86cf8f-cfa1-4508-9559-588b9be692c6",
   "metadata": {},
   "outputs": [
    {
     "data": {
      "text/plain": [
       "[0, 1, 2, 3, 4, 5, 6, 7, 8, 9]"
      ]
     },
     "execution_count": 6,
     "metadata": {},
     "output_type": "execute_result"
    }
   ],
   "source": [
    "list(range(10))"
   ]
  },
  {
   "cell_type": "code",
   "execution_count": 7,
   "id": "d6a2c836-1376-4ab5-aa59-e38cd0193006",
   "metadata": {},
   "outputs": [
    {
     "data": {
      "text/plain": [
       "[<Thread(Thread-5 (test), stopped 140113745000000)>,\n",
       " <Thread(Thread-6 (test), stopped 140113745000000)>,\n",
       " <Thread(Thread-7 (test), stopped 140113745000000)>,\n",
       " <Thread(Thread-8 (test), stopped 140113745000000)>,\n",
       " <Thread(Thread-9 (test), stopped 140113745000000)>,\n",
       " <Thread(Thread-10 (test), stopped 140113745000000)>,\n",
       " <Thread(Thread-11 (test), stopped 140113745000000)>,\n",
       " <Thread(Thread-12 (test), stopped 140113736607296)>,\n",
       " <Thread(Thread-13 (test), stopped 140113736607296)>,\n",
       " <Thread(Thread-14 (test), stopped 140113736607296)>]"
      ]
     },
     "execution_count": 7,
     "metadata": {},
     "output_type": "execute_result"
    }
   ],
   "source": [
    "thread"
   ]
  },
  {
   "cell_type": "code",
   "execution_count": 8,
   "id": "d0c326ec-135c-4d75-800b-cb2b0d1f2c0d",
   "metadata": {},
   "outputs": [
    {
     "data": {
      "text/plain": [
       "140114117701248"
      ]
     },
     "execution_count": 8,
     "metadata": {},
     "output_type": "execute_result"
    }
   ],
   "source": [
    "id(thread)"
   ]
  },
  {
   "cell_type": "code",
   "execution_count": 9,
   "id": "7235da51-380f-4374-a110-672980d2460d",
   "metadata": {},
   "outputs": [],
   "source": [
    "import threading\n",
    "import urllib.request\n",
    "\n",
    "def file_download(url,filename):\n",
    "    urllib.request.urlretrieve(url,filename)"
   ]
  },
  {
   "cell_type": "code",
   "execution_count": 10,
   "id": "a4acf796-6e04-4cbd-838b-19323ca3c609",
   "metadata": {},
   "outputs": [],
   "source": [
    "file_download('https://github.com/S1hu2bha3-m/Assignment-05-feb/blob/main/05%20feb%20assignment%20completed.ipynb',\"github.txt\")"
   ]
  },
  {
   "cell_type": "code",
   "execution_count": 11,
   "id": "ef547ead-42d3-4996-bcfe-872620b28e99",
   "metadata": {},
   "outputs": [],
   "source": [
    "url_list = ['https://github.com/S1hu2bha3-m/Assignment-05-feb/blob/main/05%20feb%20assignment%20completed.ipynb','https://github.com/S1hu2bha3-m/Assignment-4th-feb','https://github.com/S1hu2bha3-m/Assignment-3rd-feb']"
   ]
  },
  {
   "cell_type": "code",
   "execution_count": 12,
   "id": "87b8130e-b63c-4598-b927-bcccfb7646fc",
   "metadata": {},
   "outputs": [
    {
     "data": {
      "text/plain": [
       "['https://github.com/S1hu2bha3-m/Assignment-05-feb/blob/main/05%20feb%20assignment%20completed.ipynb',\n",
       " 'https://github.com/S1hu2bha3-m/Assignment-4th-feb',\n",
       " 'https://github.com/S1hu2bha3-m/Assignment-3rd-feb']"
      ]
     },
     "execution_count": 12,
     "metadata": {},
     "output_type": "execute_result"
    }
   ],
   "source": [
    "url_list"
   ]
  },
  {
   "cell_type": "code",
   "execution_count": 13,
   "id": "af555a93-7f22-4260-9a5f-aca141906de0",
   "metadata": {},
   "outputs": [],
   "source": [
    "file_name_list = ['data1.txt','data2.txt','data3.txt']"
   ]
  },
  {
   "cell_type": "code",
   "execution_count": 14,
   "id": "9b10aed2-d177-4367-b2f6-2c4a42681145",
   "metadata": {},
   "outputs": [],
   "source": [
    "ther = [threading.Thread(target=file_download , args = (url_list[i] , file_name_list[i]) ) for i in range(len(url_list))]"
   ]
  },
  {
   "cell_type": "code",
   "execution_count": 15,
   "id": "80f06cf6-4d4a-4b62-8879-2d7ec6287375",
   "metadata": {},
   "outputs": [
    {
     "data": {
      "text/plain": [
       "[<Thread(Thread-15 (file_download), initial)>,\n",
       " <Thread(Thread-16 (file_download), initial)>,\n",
       " <Thread(Thread-17 (file_download), initial)>]"
      ]
     },
     "execution_count": 15,
     "metadata": {},
     "output_type": "execute_result"
    }
   ],
   "source": [
    "ther"
   ]
  },
  {
   "cell_type": "code",
   "execution_count": 16,
   "id": "91a9c371-8c7b-4e09-81b5-6ef2f3712115",
   "metadata": {},
   "outputs": [],
   "source": [
    "for t in ther:\n",
    "    t.start()"
   ]
  },
  {
   "cell_type": "code",
   "execution_count": 17,
   "id": "5efb1266-72c7-4ea2-8194-075f50eb4610",
   "metadata": {},
   "outputs": [
    {
     "data": {
      "text/plain": [
       "[<Thread(Thread-15 (file_download), stopped 140113736607296)>,\n",
       " <Thread(Thread-16 (file_download), stopped 140113745000000)>,\n",
       " <Thread(Thread-17 (file_download), stopped 140113728214592)>]"
      ]
     },
     "execution_count": 17,
     "metadata": {},
     "output_type": "execute_result"
    }
   ],
   "source": [
    "ther"
   ]
  },
  {
   "cell_type": "code",
   "execution_count": 18,
   "id": "f65df641-f5da-4780-979a-e46d4fee5b4b",
   "metadata": {},
   "outputs": [],
   "source": [
    "import time"
   ]
  },
  {
   "cell_type": "code",
   "execution_count": 19,
   "id": "3049932e-9c7e-4103-868c-1d327cdc91b6",
   "metadata": {},
   "outputs": [],
   "source": [
    "def temp2(id):\n",
    "    for i in range(10):\n",
    "        print(\"temp2 %d printing %d\" % (id ,i))\n",
    "        time.sleep(1)"
   ]
  },
  {
   "cell_type": "code",
   "execution_count": 20,
   "id": "08b86abd-ff3e-4cd0-bbb0-fcf9a3950e69",
   "metadata": {},
   "outputs": [
    {
     "name": "stdout",
     "output_type": "stream",
     "text": [
      "temp2 1 printing 0\n",
      "temp2 1 printing 1\n",
      "temp2 1 printing 2\n",
      "temp2 1 printing 3\n",
      "temp2 1 printing 4\n",
      "temp2 1 printing 5\n",
      "temp2 1 printing 6\n",
      "temp2 1 printing 7\n",
      "temp2 1 printing 8\n",
      "temp2 1 printing 9\n"
     ]
    }
   ],
   "source": [
    "temp2(1)"
   ]
  },
  {
   "cell_type": "code",
   "execution_count": 21,
   "id": "fed07a9d-7c7a-4fc7-90f7-79153fe5dbac",
   "metadata": {},
   "outputs": [],
   "source": [
    "thread1=[threading.Thread(target=temp2 , args = (i,)) for i in range(3)]"
   ]
  },
  {
   "cell_type": "code",
   "execution_count": 22,
   "id": "5647859e-c251-48b9-b145-d4589a0d8bdd",
   "metadata": {},
   "outputs": [
    {
     "name": "stdout",
     "output_type": "stream",
     "text": [
      "temp2 0 printing 0\n",
      "temp2 1 printing 0\n",
      "temp2 2 printing 0\n",
      "temp2 0 printing 1temp2 1 printing 1\n",
      "\n",
      "temp2 2 printing 1\n",
      "temp2 1 printing 2\n",
      "temp2 0 printing 2\n",
      "temp2 2 printing 2\n",
      "temp2 1 printing 3temp2 0 printing 3\n",
      "temp2 2 printing 3\n",
      "\n",
      "temp2 0 printing 4\n",
      "temp2 2 printing 4\n",
      "temp2 1 printing 4\n",
      "temp2 0 printing 5\n",
      "temp2 2 printing 5\n",
      "temp2 1 printing 5\n",
      "temp2 0 printing 6\n",
      "temp2 1 printing 6\n",
      "temp2 2 printing 6\n",
      "temp2 0 printing 7\n",
      "temp2 1 printing 7\n",
      "temp2 2 printing 7\n",
      "temp2 0 printing 8\n",
      "temp2 1 printing 8\n",
      "temp2 2 printing 8\n",
      "temp2 0 printing 9\n",
      "temp2 2 printing 9\n",
      "temp2 1 printing 9\n"
     ]
    }
   ],
   "source": [
    "for t in thread1:\n",
    "    t.start()"
   ]
  },
  {
   "cell_type": "code",
   "execution_count": 35,
   "id": "46c6a606-14bd-4185-b357-36263eb42d3a",
   "metadata": {},
   "outputs": [],
   "source": [
    "import time\n",
    "def temp2(id):\n",
    "    for i in range(10):\n",
    "        print(\"temp2 %d printing %d %s\" % (id ,i,time.ctime()))\n",
    "        time.sleep(1)"
   ]
  },
  {
   "cell_type": "code",
   "execution_count": 36,
   "id": "7d6e7fb3-9757-4ba6-bce9-d8b1861deb50",
   "metadata": {},
   "outputs": [],
   "source": [
    "thread1=[threading.Thread(target=temp2 , args = (i,)) for i in range(3)]"
   ]
  },
  {
   "cell_type": "code",
   "execution_count": 37,
   "id": "59fe0e9a-7954-4d11-8058-66836af481c5",
   "metadata": {},
   "outputs": [
    {
     "name": "stdout",
     "output_type": "stream",
     "text": [
      "temp2 0 printing 0 Sun Feb 19 15:50:03 2023\n",
      "temp2 1 printing 0 Sun Feb 19 15:50:03 2023\n",
      "temp2 2 printing 0 Sun Feb 19 15:50:03 2023\n",
      "temp2 0 printing 1 Sun Feb 19 15:50:04 2023temp2 1 printing 1 Sun Feb 19 15:50:04 2023\n",
      "\n",
      "temp2 2 printing 1 Sun Feb 19 15:50:04 2023\n",
      "temp2 1 printing 2 Sun Feb 19 15:50:05 2023temp2 0 printing 2 Sun Feb 19 15:50:05 2023\n",
      "\n",
      "temp2 2 printing 2 Sun Feb 19 15:50:05 2023\n",
      "temp2 0 printing 3 Sun Feb 19 15:50:06 2023\n",
      "temp2 1 printing 3 Sun Feb 19 15:50:06 2023\n",
      "temp2 2 printing 3 Sun Feb 19 15:50:06 2023\n",
      "temp2 0 printing 4 Sun Feb 19 15:50:07 2023temp2 1 printing 4 Sun Feb 19 15:50:07 2023\n",
      "\n",
      "temp2 2 printing 4 Sun Feb 19 15:50:07 2023\n",
      "temp2 1 printing 5 Sun Feb 19 15:50:08 2023\n",
      "temp2 0 printing 5 Sun Feb 19 15:50:08 2023\n",
      "temp2 2 printing 5 Sun Feb 19 15:50:08 2023\n",
      "temp2 1 printing 6 Sun Feb 19 15:50:09 2023\n",
      "temp2 2 printing 6 Sun Feb 19 15:50:09 2023\n",
      "temp2 0 printing 6 Sun Feb 19 15:50:09 2023\n",
      "temp2 1 printing 7 Sun Feb 19 15:50:10 2023\n",
      "temp2 0 printing 7 Sun Feb 19 15:50:10 2023\n",
      "temp2 2 printing 7 Sun Feb 19 15:50:10 2023\n",
      "temp2 1 printing 8 Sun Feb 19 15:50:11 2023\n",
      "temp2 0 printing 8 Sun Feb 19 15:50:11 2023\n",
      "temp2 2 printing 8 Sun Feb 19 15:50:11 2023\n",
      "temp2 1 printing 9 Sun Feb 19 15:50:12 2023\n",
      "temp2 0 printing 9 Sun Feb 19 15:50:12 2023\n",
      "temp2 2 printing 9 Sun Feb 19 15:50:12 2023\n"
     ]
    }
   ],
   "source": [
    "for t in thread1:\n",
    "    t.start()"
   ]
  },
  {
   "cell_type": "code",
   "execution_count": 47,
   "id": "cfb791c6-8908-466a-9f38-6df35534a7bc",
   "metadata": {},
   "outputs": [],
   "source": [
    "import threading\n",
    "shared_var = 0\n",
    "lock_var = threading.Lock()"
   ]
  },
  {
   "cell_type": "code",
   "execution_count": 55,
   "id": "24df99b7-1aba-478f-9177-473f6efb832e",
   "metadata": {},
   "outputs": [],
   "source": [
    "def temp4(id):\n",
    "    global shared_var\n",
    "    with lock_var :\n",
    "        shared_var = shared_var+1\n",
    "        print(\"temp4 id is %d has increased the shared variable by %d \" %(id ,shared_var) )\n",
    "        time.sleep(1)"
   ]
  },
  {
   "cell_type": "code",
   "execution_count": 56,
   "id": "093d0c67-f5f5-4561-896f-4665683b3fb0",
   "metadata": {},
   "outputs": [],
   "source": [
    "ther3=[threading.Thread(target=temp4 , args = (i,) ) for i in range(3)]"
   ]
  },
  {
   "cell_type": "code",
   "execution_count": 57,
   "id": "561740bd-cd35-45f9-8e88-6098f7438cdf",
   "metadata": {},
   "outputs": [
    {
     "data": {
      "text/plain": [
       "[<Thread(Thread-42 (temp4), initial)>,\n",
       " <Thread(Thread-43 (temp4), initial)>,\n",
       " <Thread(Thread-44 (temp4), initial)>]"
      ]
     },
     "execution_count": 57,
     "metadata": {},
     "output_type": "execute_result"
    }
   ],
   "source": [
    "ther3"
   ]
  },
  {
   "cell_type": "code",
   "execution_count": 59,
   "id": "6c3e3113-6082-41fc-a7d6-28e9c859f643",
   "metadata": {},
   "outputs": [
    {
     "name": "stdout",
     "output_type": "stream",
     "text": [
      "temp4 id is 0 has increased the shared variable by 1 \n",
      "temp4 id is 1 has increased the shared variable by 2 \n",
      "temp4 id is 2 has increased the shared variable by 3 \n"
     ]
    }
   ],
   "source": [
    "for t in ther3:\n",
    "    t.start()"
   ]
  },
  {
   "cell_type": "code",
   "execution_count": null,
   "id": "78e23427-f03d-4f5c-97c2-bceecbd625bc",
   "metadata": {},
   "outputs": [],
   "source": []
  }
 ],
 "metadata": {
  "kernelspec": {
   "display_name": "Python 3 (ipykernel)",
   "language": "python",
   "name": "python3"
  },
  "language_info": {
   "codemirror_mode": {
    "name": "ipython",
    "version": 3
   },
   "file_extension": ".py",
   "mimetype": "text/x-python",
   "name": "python",
   "nbconvert_exporter": "python",
   "pygments_lexer": "ipython3",
   "version": "3.10.8"
  }
 },
 "nbformat": 4,
 "nbformat_minor": 5
}
