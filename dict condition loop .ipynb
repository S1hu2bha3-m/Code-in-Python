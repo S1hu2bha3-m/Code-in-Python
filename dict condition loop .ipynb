{
 "cells": [
  {
   "cell_type": "code",
   "execution_count": 1,
   "id": "3c999e12-5194-49e6-b25e-d4c022c9dc73",
   "metadata": {},
   "outputs": [],
   "source": [
    "#dictionary"
   ]
  },
  {
   "cell_type": "code",
   "execution_count": 2,
   "id": "c3346d0c-4126-41f6-aa05-6074a37a0c4f",
   "metadata": {},
   "outputs": [],
   "source": [
    "d = {}"
   ]
  },
  {
   "cell_type": "code",
   "execution_count": 3,
   "id": "812c44df-9292-43ad-9260-d700f02fd50e",
   "metadata": {},
   "outputs": [
    {
     "data": {
      "text/plain": [
       "dict"
      ]
     },
     "execution_count": 3,
     "metadata": {},
     "output_type": "execute_result"
    }
   ],
   "source": [
    "type(d)"
   ]
  },
  {
   "cell_type": "code",
   "execution_count": 4,
   "id": "a1385ef5-4763-450f-b22b-3499bc5ad36a",
   "metadata": {},
   "outputs": [],
   "source": [
    "d1 = {'key':\"shubham\"}"
   ]
  },
  {
   "cell_type": "code",
   "execution_count": 5,
   "id": "f60f3a3c-4f2d-4413-b831-8aa88dfa44d7",
   "metadata": {},
   "outputs": [
    {
     "data": {
      "text/plain": [
       "{'key': 'shubham'}"
      ]
     },
     "execution_count": 5,
     "metadata": {},
     "output_type": "execute_result"
    }
   ],
   "source": [
    "d1"
   ]
  },
  {
   "cell_type": "code",
   "execution_count": 6,
   "id": "ff140d1d-f94e-40a7-957c-4f66e509b95c",
   "metadata": {},
   "outputs": [],
   "source": [
    "d2 = {'name':\"shubham\",\"email\":\"shubhamgupta75070@gmail.com\",\"number\":3434344}"
   ]
  },
  {
   "cell_type": "code",
   "execution_count": 7,
   "id": "14be4bd6-e25d-4620-9036-de4b7174fbcd",
   "metadata": {},
   "outputs": [
    {
     "data": {
      "text/plain": [
       "{'name': 'shubham', 'email': 'shubhamgupta75070@gmail.com', 'number': 3434344}"
      ]
     },
     "execution_count": 7,
     "metadata": {},
     "output_type": "execute_result"
    }
   ],
   "source": [
    "d2"
   ]
  },
  {
   "cell_type": "code",
   "execution_count": 10,
   "id": "e8a3e731-87ab-41b1-8b5b-1654a7f518b1",
   "metadata": {},
   "outputs": [],
   "source": [
    "d3 = {345:\"shubh\",True:47574}"
   ]
  },
  {
   "cell_type": "code",
   "execution_count": 11,
   "id": "cbc2bac5-c79f-4888-89cc-6fd0d486bfc1",
   "metadata": {},
   "outputs": [
    {
     "data": {
      "text/plain": [
       "{345: 'shubh', True: 47574}"
      ]
     },
     "execution_count": 11,
     "metadata": {},
     "output_type": "execute_result"
    }
   ],
   "source": [
    "d3"
   ]
  },
  {
   "cell_type": "code",
   "execution_count": 12,
   "id": "c44bd7c8-2ab0-41c6-8a41-322ca4d1fb7c",
   "metadata": {},
   "outputs": [
    {
     "ename": "KeyError",
     "evalue": "'345'",
     "output_type": "error",
     "traceback": [
      "\u001b[0;31m---------------------------------------------------------------------------\u001b[0m",
      "\u001b[0;31mKeyError\u001b[0m                                  Traceback (most recent call last)",
      "Cell \u001b[0;32mIn[12], line 1\u001b[0m\n\u001b[0;32m----> 1\u001b[0m \u001b[43md3\u001b[49m\u001b[43m[\u001b[49m\u001b[38;5;124;43m'\u001b[39;49m\u001b[38;5;124;43m345\u001b[39;49m\u001b[38;5;124;43m'\u001b[39;49m\u001b[43m]\u001b[49m\n",
      "\u001b[0;31mKeyError\u001b[0m: '345'"
     ]
    }
   ],
   "source": [
    "d3['345']"
   ]
  },
  {
   "cell_type": "code",
   "execution_count": 13,
   "id": "83112a72-5d0a-4e63-9076-12c91380dd0e",
   "metadata": {},
   "outputs": [
    {
     "data": {
      "text/plain": [
       "'shubh'"
      ]
     },
     "execution_count": 13,
     "metadata": {},
     "output_type": "execute_result"
    }
   ],
   "source": [
    "d3[345]"
   ]
  },
  {
   "cell_type": "code",
   "execution_count": 14,
   "id": "f738a62b-d720-43fc-9bdf-8c1ad96769f0",
   "metadata": {},
   "outputs": [
    {
     "data": {
      "text/plain": [
       "47574"
      ]
     },
     "execution_count": 14,
     "metadata": {},
     "output_type": "execute_result"
    }
   ],
   "source": [
    "d3[True]"
   ]
  },
  {
   "cell_type": "code",
   "execution_count": 15,
   "id": "8ac85db8-2d73-400b-827d-8f79dd0e54f6",
   "metadata": {},
   "outputs": [
    {
     "data": {
      "text/plain": [
       "47574"
      ]
     },
     "execution_count": 15,
     "metadata": {},
     "output_type": "execute_result"
    }
   ],
   "source": [
    "d3[1]"
   ]
  },
  {
   "cell_type": "code",
   "execution_count": 16,
   "id": "4ee068dc-430e-4c46-a10d-8526b2864870",
   "metadata": {},
   "outputs": [],
   "source": [
    "d4 = {'name':\"shivam\",'mail_id':\"ssgmail\",\"name\":\"shubhma\"}"
   ]
  },
  {
   "cell_type": "code",
   "execution_count": 17,
   "id": "f1ac5a92-6cac-4393-8a53-071b7c1319ed",
   "metadata": {},
   "outputs": [
    {
     "data": {
      "text/plain": [
       "'shubhma'"
      ]
     },
     "execution_count": 17,
     "metadata": {},
     "output_type": "execute_result"
    }
   ],
   "source": [
    "d4['name']"
   ]
  },
  {
   "cell_type": "code",
   "execution_count": 18,
   "id": "869a09aa-d04a-4670-88b9-b3677a502d60",
   "metadata": {},
   "outputs": [],
   "source": [
    "d5 = {\"company\":\"pwskills\",\"courses\":[\"webdev\",\"data science\",\"java with dsa\"]}"
   ]
  },
  {
   "cell_type": "code",
   "execution_count": 19,
   "id": "4121a914-913a-4b38-8e64-24d3a055ceb5",
   "metadata": {},
   "outputs": [
    {
     "data": {
      "text/plain": [
       "{'company': 'pwskills', 'courses': ['webdev', 'data science', 'java with dsa']}"
      ]
     },
     "execution_count": 19,
     "metadata": {},
     "output_type": "execute_result"
    }
   ],
   "source": [
    "d5"
   ]
  },
  {
   "cell_type": "code",
   "execution_count": 20,
   "id": "ada000f7-ea18-4a1c-94ab-ade1256cd981",
   "metadata": {},
   "outputs": [
    {
     "data": {
      "text/plain": [
       "'java with dsa'"
      ]
     },
     "execution_count": 20,
     "metadata": {},
     "output_type": "execute_result"
    }
   ],
   "source": [
    "d5['courses'][2]"
   ]
  },
  {
   "cell_type": "code",
   "execution_count": 23,
   "id": "d9f03517-668c-4e2b-893f-e799fc64679b",
   "metadata": {},
   "outputs": [],
   "source": [
    "d6 = {\"number\":[2,3,4,5,6,],\"assignment\":(2,2,3,4,5,),\"launch_date\":{28,12,14},\"class_time\":{\"webdev\":8,\"datascience\":8,}}"
   ]
  },
  {
   "cell_type": "code",
   "execution_count": 24,
   "id": "22700bf6-d45f-45ba-a3bd-f918b56790a9",
   "metadata": {},
   "outputs": [
    {
     "data": {
      "text/plain": [
       "{'number': [2, 3, 4, 5, 6],\n",
       " 'assignment': (2, 2, 3, 4, 5),\n",
       " 'launch_date': {12, 14, 28},\n",
       " 'class_time': {'webdev': 8, 'datascience': 8}}"
      ]
     },
     "execution_count": 24,
     "metadata": {},
     "output_type": "execute_result"
    }
   ],
   "source": [
    "d6"
   ]
  },
  {
   "cell_type": "code",
   "execution_count": 25,
   "id": "e87aa3c3-7fd6-4e35-ab2a-f1157ff71aea",
   "metadata": {},
   "outputs": [
    {
     "data": {
      "text/plain": [
       "{'webdev': 8, 'datascience': 8}"
      ]
     },
     "execution_count": 25,
     "metadata": {},
     "output_type": "execute_result"
    }
   ],
   "source": [
    "d6['class_time']"
   ]
  },
  {
   "cell_type": "code",
   "execution_count": 26,
   "id": "8ed64bb1-2e6b-4e22-8ce6-fab5146bfacf",
   "metadata": {},
   "outputs": [
    {
     "data": {
      "text/plain": [
       "8"
      ]
     },
     "execution_count": 26,
     "metadata": {},
     "output_type": "execute_result"
    }
   ],
   "source": [
    "d6['class_time']['webdev']"
   ]
  },
  {
   "cell_type": "code",
   "execution_count": 27,
   "id": "06d394f9-4e89-4f0a-a383-cb3ad44f62ea",
   "metadata": {},
   "outputs": [],
   "source": [
    "d6['mentor']=[\"shudhanshu\",\"krish sir\",\"hydersir\"]"
   ]
  },
  {
   "cell_type": "code",
   "execution_count": 28,
   "id": "aff05343-65d7-4df2-9d83-aaa37e3b66a6",
   "metadata": {},
   "outputs": [
    {
     "data": {
      "text/plain": [
       "{'number': [2, 3, 4, 5, 6],\n",
       " 'assignment': (2, 2, 3, 4, 5),\n",
       " 'launch_date': {12, 14, 28},\n",
       " 'class_time': {'webdev': 8, 'datascience': 8},\n",
       " 'mentor': ['shudhanshu', 'krish sir', 'hydersir']}"
      ]
     },
     "execution_count": 28,
     "metadata": {},
     "output_type": "execute_result"
    }
   ],
   "source": [
    "d6"
   ]
  },
  {
   "cell_type": "code",
   "execution_count": 30,
   "id": "cba88708-836f-4652-ae39-81fbd35d6a0a",
   "metadata": {},
   "outputs": [],
   "source": [
    "del d6['number']"
   ]
  },
  {
   "cell_type": "code",
   "execution_count": 31,
   "id": "2c9ff390-f651-4094-90e4-d13c0aaddb4d",
   "metadata": {},
   "outputs": [
    {
     "data": {
      "text/plain": [
       "{'assignment': (2, 2, 3, 4, 5),\n",
       " 'launch_date': {12, 14, 28},\n",
       " 'class_time': {'webdev': 8, 'datascience': 8},\n",
       " 'mentor': ['shudhanshu', 'krish sir', 'hydersir']}"
      ]
     },
     "execution_count": 31,
     "metadata": {},
     "output_type": "execute_result"
    }
   ],
   "source": [
    "d6"
   ]
  },
  {
   "cell_type": "code",
   "execution_count": 32,
   "id": "8a34f678-e7e1-4d6c-99a3-de1831459b2f",
   "metadata": {},
   "outputs": [
    {
     "data": {
      "text/plain": [
       "dict_keys(['assignment', 'launch_date', 'class_time', 'mentor'])"
      ]
     },
     "execution_count": 32,
     "metadata": {},
     "output_type": "execute_result"
    }
   ],
   "source": [
    "d6.keys()"
   ]
  },
  {
   "cell_type": "code",
   "execution_count": 33,
   "id": "7b2d69e4-0164-466f-8a38-68a8dd1bef20",
   "metadata": {},
   "outputs": [
    {
     "data": {
      "text/plain": [
       "dict_values([(2, 2, 3, 4, 5), {28, 12, 14}, {'webdev': 8, 'datascience': 8}, ['shudhanshu', 'krish sir', 'hydersir']])"
      ]
     },
     "execution_count": 33,
     "metadata": {},
     "output_type": "execute_result"
    }
   ],
   "source": [
    "d6.values()"
   ]
  },
  {
   "cell_type": "code",
   "execution_count": 34,
   "id": "b19fe712-5dfd-473b-8d11-191b5f8a7827",
   "metadata": {},
   "outputs": [
    {
     "data": {
      "text/plain": [
       "[(2, 2, 3, 4, 5),\n",
       " {12, 14, 28},\n",
       " {'webdev': 8, 'datascience': 8},\n",
       " ['shudhanshu', 'krish sir', 'hydersir']]"
      ]
     },
     "execution_count": 34,
     "metadata": {},
     "output_type": "execute_result"
    }
   ],
   "source": [
    "list(d6.values())"
   ]
  },
  {
   "cell_type": "code",
   "execution_count": 35,
   "id": "1f85b952-5945-41ed-9e9f-7efd85d2c4fa",
   "metadata": {},
   "outputs": [
    {
     "data": {
      "text/plain": [
       "dict_items([('assignment', (2, 2, 3, 4, 5)), ('launch_date', {28, 12, 14}), ('class_time', {'webdev': 8, 'datascience': 8}), ('mentor', ['shudhanshu', 'krish sir', 'hydersir'])])"
      ]
     },
     "execution_count": 35,
     "metadata": {},
     "output_type": "execute_result"
    }
   ],
   "source": [
    "d6.items()"
   ]
  },
  {
   "cell_type": "code",
   "execution_count": 36,
   "id": "7d1cc6df-92aa-4986-90d6-dd53b2e6cec3",
   "metadata": {},
   "outputs": [
    {
     "data": {
      "text/plain": [
       "[('assignment', (2, 2, 3, 4, 5)),\n",
       " ('launch_date', {12, 14, 28}),\n",
       " ('class_time', {'webdev': 8, 'datascience': 8}),\n",
       " ('mentor', ['shudhanshu', 'krish sir', 'hydersir'])]"
      ]
     },
     "execution_count": 36,
     "metadata": {},
     "output_type": "execute_result"
    }
   ],
   "source": [
    "list(d6.items())"
   ]
  },
  {
   "cell_type": "code",
   "execution_count": 38,
   "id": "30f30b1d-e622-4ca8-9b0d-59125f8899bd",
   "metadata": {},
   "outputs": [
    {
     "data": {
      "text/plain": [
       "(2, 2, 3, 4, 5)"
      ]
     },
     "execution_count": 38,
     "metadata": {},
     "output_type": "execute_result"
    }
   ],
   "source": [
    "d6.pop('assignment')"
   ]
  },
  {
   "cell_type": "code",
   "execution_count": 39,
   "id": "8c5a3dff-a2d8-4ff4-985c-4b3cc0f59885",
   "metadata": {},
   "outputs": [
    {
     "data": {
      "text/plain": [
       "{'launch_date': {12, 14, 28},\n",
       " 'class_time': {'webdev': 8, 'datascience': 8},\n",
       " 'mentor': ['shudhanshu', 'krish sir', 'hydersir']}"
      ]
     },
     "execution_count": 39,
     "metadata": {},
     "output_type": "execute_result"
    }
   ],
   "source": [
    "d6"
   ]
  },
  {
   "cell_type": "code",
   "execution_count": 40,
   "id": "c95a6104-1f06-493e-af8e-fff82075dbe5",
   "metadata": {},
   "outputs": [],
   "source": [
    "#control flow"
   ]
  },
  {
   "cell_type": "code",
   "execution_count": 47,
   "id": "932b7acb-f5cf-46b4-9f8e-d538c48d767d",
   "metadata": {},
   "outputs": [
    {
     "name": "stdin",
     "output_type": "stream",
     "text": [
      "enter your marks 87\n"
     ]
    },
    {
     "name": "stdout",
     "output_type": "stream",
     "text": [
      "you will be part of A0 batch\n"
     ]
    }
   ],
   "source": [
    "marks = int(input(\"enter your marks\"))\n",
    "if marks >= 80:\n",
    "    print(\"you will be part of A0 batch\")\n",
    "elif marks >= 60 and marks<80:\n",
    "    print(\"you will part of a2 batch\")\n",
    "elif marks >= 40 and marks < 60:\n",
    "    print(\"you will be a part of a2 batch\")\n",
    "else:\n",
    "    print(\"you will part of a3 batch\")"
   ]
  },
  {
   "cell_type": "code",
   "execution_count": 49,
   "id": "63afeff8-e805-4a2b-ae82-cd94569295c5",
   "metadata": {},
   "outputs": [
    {
     "name": "stdin",
     "output_type": "stream",
     "text": [
      "enter your price 4555\n"
     ]
    },
    {
     "name": "stdout",
     "output_type": "stream",
     "text": [
      "i will not purchase\n"
     ]
    }
   ],
   "source": [
    "price = int(input(\"enter your price\"))\n",
    "if price > 1000:\n",
    "        print(\"i will not purchase\")\n",
    "else :\n",
    "    print(\"i will purchase\")"
   ]
  },
  {
   "cell_type": "code",
   "execution_count": null,
   "id": "94425205-24ab-4080-b7fa-31b7e9bcfa96",
   "metadata": {},
   "outputs": [],
   "source": []
  },
  {
   "cell_type": "code",
   "execution_count": 4,
   "id": "da31799c-6bac-4714-9429-eec01318206a",
   "metadata": {},
   "outputs": [],
   "source": [
    "l = [1,2,3,4,5,5,5,6,7,]"
   ]
  },
  {
   "cell_type": "code",
   "execution_count": 5,
   "id": "283f1df2-338d-4a24-8b8a-b610af8c71f8",
   "metadata": {},
   "outputs": [
    {
     "data": {
      "text/plain": [
       "[1, 2, 3, 4, 5, 5, 5, 6, 7]"
      ]
     },
     "execution_count": 5,
     "metadata": {},
     "output_type": "execute_result"
    }
   ],
   "source": [
    "l"
   ]
  },
  {
   "cell_type": "code",
   "execution_count": 11,
   "id": "7472e77f-58e0-43b3-80c3-193dcf2121e8",
   "metadata": {},
   "outputs": [],
   "source": [
    "l[0]+1\n",
    "l1 = []"
   ]
  },
  {
   "cell_type": "code",
   "execution_count": 12,
   "id": "c51cfe25-39c5-41e1-80a2-60c310c12560",
   "metadata": {},
   "outputs": [],
   "source": [
    "l1.append(l[0]+1)"
   ]
  },
  {
   "cell_type": "code",
   "execution_count": 13,
   "id": "6f23d292-26e3-4dc0-92ab-dc0188ea80fe",
   "metadata": {},
   "outputs": [
    {
     "data": {
      "text/plain": [
       "[2]"
      ]
     },
     "execution_count": 13,
     "metadata": {},
     "output_type": "execute_result"
    }
   ],
   "source": [
    "l1"
   ]
  },
  {
   "cell_type": "code",
   "execution_count": 14,
   "id": "41f505ed-0a37-409d-b908-213e829a6adf",
   "metadata": {},
   "outputs": [
    {
     "data": {
      "text/plain": [
       "[1, 2, 3, 4, 5, 5, 5, 6, 7]"
      ]
     },
     "execution_count": 14,
     "metadata": {},
     "output_type": "execute_result"
    }
   ],
   "source": [
    "l"
   ]
  },
  {
   "cell_type": "code",
   "execution_count": 18,
   "id": "9072146b-320f-4632-859f-cdc4021485cd",
   "metadata": {},
   "outputs": [
    {
     "name": "stdout",
     "output_type": "stream",
     "text": [
      "2\n",
      "3\n",
      "4\n",
      "5\n",
      "6\n",
      "6\n",
      "6\n",
      "7\n",
      "8\n"
     ]
    },
    {
     "data": {
      "text/plain": [
       "[2, 3, 4, 5, 6, 6, 6, 7, 8]"
      ]
     },
     "execution_count": 18,
     "metadata": {},
     "output_type": "execute_result"
    }
   ],
   "source": [
    "l1 = []\n",
    "for i in l:\n",
    "    print(i+1)\n",
    "    l1.append(i+1)\n",
    "l1"
   ]
  },
  {
   "cell_type": "code",
   "execution_count": 19,
   "id": "d9019347-38f7-46ee-ac89-257fe3b154ce",
   "metadata": {},
   "outputs": [],
   "source": [
    "l = [\"shubh\",\"gupta\",\"pwskills\",\"course\"]"
   ]
  },
  {
   "cell_type": "code",
   "execution_count": 20,
   "id": "2a1d1de5-b54b-4766-b472-c42e1d49f581",
   "metadata": {},
   "outputs": [
    {
     "data": {
      "text/plain": [
       "['shubh', 'gupta', 'pwskills', 'course']"
      ]
     },
     "execution_count": 20,
     "metadata": {},
     "output_type": "execute_result"
    }
   ],
   "source": [
    "l"
   ]
  },
  {
   "cell_type": "code",
   "execution_count": 25,
   "id": "94e43d9c-8c48-4d96-9475-d30f0a597bbd",
   "metadata": {},
   "outputs": [
    {
     "name": "stdout",
     "output_type": "stream",
     "text": [
      "shubh\n",
      "gupta\n",
      "pwskills\n",
      "course\n"
     ]
    }
   ],
   "source": [
    "l1 = []\n",
    "for i in l:\n",
    "    print(i)\n",
    "    l1.append(i.upper())"
   ]
  },
  {
   "cell_type": "code",
   "execution_count": 26,
   "id": "cc625ddb-3613-43a3-9ea5-55744e0c3f71",
   "metadata": {},
   "outputs": [
    {
     "data": {
      "text/plain": [
       "['SHUBH', 'GUPTA', 'PWSKILLS', 'COURSE']"
      ]
     },
     "execution_count": 26,
     "metadata": {},
     "output_type": "execute_result"
    }
   ],
   "source": [
    "l1"
   ]
  },
  {
   "cell_type": "code",
   "execution_count": 29,
   "id": "e9d10753-f557-435e-a600-1e84210e78da",
   "metadata": {},
   "outputs": [],
   "source": [
    "l = [1,2,3,4,4,5,\"shubh\",\"gupta\",3434.544,\"abccd\"]"
   ]
  },
  {
   "cell_type": "code",
   "execution_count": 30,
   "id": "1ee726ea-34d8-46f7-9a97-97254a15c22d",
   "metadata": {},
   "outputs": [],
   "source": [
    "l1_num = []\n",
    "l2_str = []\n",
    "for i in l :\n",
    "    if type(i) == int or type(i) == float:\n",
    "        l1_num.append(i)\n",
    "    else :\n",
    "        l2_str.append(i)\n",
    "    "
   ]
  },
  {
   "cell_type": "code",
   "execution_count": 31,
   "id": "e5df2822-653b-4ea0-89d0-01a113bceef0",
   "metadata": {},
   "outputs": [
    {
     "data": {
      "text/plain": [
       "[1, 2, 3, 4, 4, 5, 3434.544]"
      ]
     },
     "execution_count": 31,
     "metadata": {},
     "output_type": "execute_result"
    }
   ],
   "source": [
    "l1_num"
   ]
  },
  {
   "cell_type": "code",
   "execution_count": 32,
   "id": "449457e5-16a6-401f-81fc-f5362cfe852f",
   "metadata": {},
   "outputs": [
    {
     "data": {
      "text/plain": [
       "['shubh', 'gupta', 'abccd']"
      ]
     },
     "execution_count": 32,
     "metadata": {},
     "output_type": "execute_result"
    }
   ],
   "source": [
    "l2_str"
   ]
  },
  {
   "cell_type": "code",
   "execution_count": null,
   "id": "f7ac1ea9-7c3d-4535-9fea-3d5dfe368f2f",
   "metadata": {},
   "outputs": [],
   "source": [
    "#100+sample"
   ]
  }
 ],
 "metadata": {
  "kernelspec": {
   "display_name": "Python 3 (ipykernel)",
   "language": "python",
   "name": "python3"
  },
  "language_info": {
   "codemirror_mode": {
    "name": "ipython",
    "version": 3
   },
   "file_extension": ".py",
   "mimetype": "text/x-python",
   "name": "python",
   "nbconvert_exporter": "python",
   "pygments_lexer": "ipython3",
   "version": "3.10.8"
  }
 },
 "nbformat": 4,
 "nbformat_minor": 5
}
