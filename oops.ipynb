{
 "cells": [
  {
   "cell_type": "code",
   "execution_count": 1,
   "id": "94cc2831-4d8e-48ca-8fab-aa36a778adec",
   "metadata": {},
   "outputs": [],
   "source": [
    "# OOPs"
   ]
  },
  {
   "cell_type": "code",
   "execution_count": 2,
   "id": "290269ee-1cd4-4b94-a951-a4e7070ef87d",
   "metadata": {},
   "outputs": [
    {
     "name": "stdout",
     "output_type": "stream",
     "text": [
      "<class 'int'>\n"
     ]
    }
   ],
   "source": [
    "a = 1\n",
    "print(type(a))"
   ]
  },
  {
   "cell_type": "code",
   "execution_count": 3,
   "id": "4a215b28-d359-47be-8371-011499e1be28",
   "metadata": {},
   "outputs": [
    {
     "name": "stdout",
     "output_type": "stream",
     "text": [
      "<class 'str'>\n"
     ]
    }
   ],
   "source": [
    "print(type(\"fjfj\"))"
   ]
  },
  {
   "cell_type": "code",
   "execution_count": 4,
   "id": "52a3dca8-10cb-46fc-bcda-e37bea2fd7d0",
   "metadata": {},
   "outputs": [
    {
     "name": "stdout",
     "output_type": "stream",
     "text": [
      "<class 'float'>\n"
     ]
    }
   ],
   "source": [
    "print(type(44.54))"
   ]
  },
  {
   "cell_type": "code",
   "execution_count": 5,
   "id": "d15a5cbb-2c41-4531-a88f-4baf5b95a210",
   "metadata": {},
   "outputs": [
    {
     "ename": "SyntaxError",
     "evalue": "incomplete input (625349465.py, line 1)",
     "output_type": "error",
     "traceback": [
      "\u001b[0;36m  Cell \u001b[0;32mIn[5], line 1\u001b[0;36m\u001b[0m\n\u001b[0;31m    class test :\u001b[0m\n\u001b[0m                ^\u001b[0m\n\u001b[0;31mSyntaxError\u001b[0m\u001b[0;31m:\u001b[0m incomplete input\n"
     ]
    }
   ],
   "source": [
    "class test :"
   ]
  },
  {
   "cell_type": "code",
   "execution_count": 7,
   "id": "9505676a-24fa-4638-8530-b0d9ba2796cb",
   "metadata": {},
   "outputs": [],
   "source": [
    "class test :\n",
    "    pass"
   ]
  },
  {
   "cell_type": "code",
   "execution_count": 8,
   "id": "91497264-3a1c-4b32-ac7e-2189f8a90064",
   "metadata": {},
   "outputs": [],
   "source": [
    "a = test()"
   ]
  },
  {
   "cell_type": "code",
   "execution_count": 9,
   "id": "ae9f92f9-18c3-41a6-aba0-87e1552c7281",
   "metadata": {},
   "outputs": [
    {
     "data": {
      "text/plain": [
       "__main__.test"
      ]
     },
     "execution_count": 9,
     "metadata": {},
     "output_type": "execute_result"
    }
   ],
   "source": [
    "type(a)"
   ]
  },
  {
   "cell_type": "code",
   "execution_count": 11,
   "id": "d917fe74-bfc0-481b-9edc-a7f00909d512",
   "metadata": {},
   "outputs": [
    {
     "name": "stdout",
     "output_type": "stream",
     "text": [
      "<class '__main__.test'>\n"
     ]
    }
   ],
   "source": [
    "print(type(a))"
   ]
  },
  {
   "cell_type": "code",
   "execution_count": 16,
   "id": "4ed21998-f17a-4b42-8596-94ac21426a83",
   "metadata": {},
   "outputs": [],
   "source": [
    "class pwskills :\n",
    "    def welcome_msg(self):\n",
    "        print(\"welcome to pwskills\")"
   ]
  },
  {
   "cell_type": "code",
   "execution_count": 18,
   "id": "5b67ecf0-fc02-4ef3-8c52-90c55daca733",
   "metadata": {},
   "outputs": [],
   "source": [
    "shivam = pwskills()"
   ]
  },
  {
   "cell_type": "code",
   "execution_count": 14,
   "id": "acb903f2-eef2-4e6c-ae68-868d900cc620",
   "metadata": {},
   "outputs": [
    {
     "name": "stdout",
     "output_type": "stream",
     "text": [
      "<class '__main__.pwskills'>\n"
     ]
    }
   ],
   "source": [
    "print(type(shivam))"
   ]
  },
  {
   "cell_type": "code",
   "execution_count": 19,
   "id": "a0024b8a-f14f-4a00-a263-d732cbe3f948",
   "metadata": {},
   "outputs": [
    {
     "name": "stdout",
     "output_type": "stream",
     "text": [
      "welcome to pwskills\n"
     ]
    }
   ],
   "source": [
    "shivam.welcome_msg()"
   ]
  },
  {
   "cell_type": "code",
   "execution_count": 20,
   "id": "cab135dd-4d91-477d-bf7c-94bf86671a1f",
   "metadata": {},
   "outputs": [],
   "source": [
    "shubham = pwskills()"
   ]
  },
  {
   "cell_type": "code",
   "execution_count": 21,
   "id": "2a4e22f5-43cf-46e3-bbed-88716b1b2134",
   "metadata": {},
   "outputs": [
    {
     "name": "stdout",
     "output_type": "stream",
     "text": [
      "welcome to pwskills\n"
     ]
    }
   ],
   "source": [
    "shubham.welcome_msg()"
   ]
  },
  {
   "cell_type": "code",
   "execution_count": 4,
   "id": "e582b012-3dac-4d1c-bbd4-b5d9b5746d45",
   "metadata": {},
   "outputs": [],
   "source": [
    "class pwskills1 :\n",
    "    def __init__(self , phonen_num,emailid , stuid):\n",
    "        self.phonen_num = phonen_num\n",
    "        self.emailid = emailid\n",
    "        self.stuid = stuid\n",
    "    def return_student_details(self):\n",
    "        return self.phonen_num,self.emailid,self.stuid"
   ]
  },
  {
   "cell_type": "code",
   "execution_count": 5,
   "id": "a76e29a1-9e76-425d-8283-650fe492632d",
   "metadata": {},
   "outputs": [],
   "source": [
    "shivam = pwskills1(3848484,\"shu@gmail.com\",345)"
   ]
  },
  {
   "cell_type": "code",
   "execution_count": 6,
   "id": "5699761a-12d7-4406-af99-d7da5b1cf0dd",
   "metadata": {},
   "outputs": [
    {
     "data": {
      "text/plain": [
       "(3848484, 'shu@gmail.com', 345)"
      ]
     },
     "execution_count": 6,
     "metadata": {},
     "output_type": "execute_result"
    }
   ],
   "source": [
    "shivam.return_student_details()"
   ]
  },
  {
   "cell_type": "code",
   "execution_count": 11,
   "id": "7c566129-ae05-4323-ac69-c9c8fa6ead7e",
   "metadata": {},
   "outputs": [
    {
     "data": {
      "text/plain": [
       "'shu@gmail.com'"
      ]
     },
     "execution_count": 11,
     "metadata": {},
     "output_type": "execute_result"
    }
   ],
   "source": [
    "shivam.emailid"
   ]
  },
  {
   "cell_type": "code",
   "execution_count": 12,
   "id": "30fe5a6d-06aa-4363-8e46-546395aeb705",
   "metadata": {},
   "outputs": [
    {
     "data": {
      "text/plain": [
       "345"
      ]
     },
     "execution_count": 12,
     "metadata": {},
     "output_type": "execute_result"
    }
   ],
   "source": [
    "shivam.stuid"
   ]
  },
  {
   "cell_type": "code",
   "execution_count": 13,
   "id": "0c0e53aa-8c1c-4e3d-b840-6b73c888e738",
   "metadata": {},
   "outputs": [
    {
     "data": {
      "text/plain": [
       "3848484"
      ]
     },
     "execution_count": 13,
     "metadata": {},
     "output_type": "execute_result"
    }
   ],
   "source": [
    "shivam.phonen_num"
   ]
  },
  {
   "cell_type": "code",
   "execution_count": 17,
   "id": "0c18c4fa-aa2a-4a94-850a-5641146dfcf1",
   "metadata": {},
   "outputs": [],
   "source": [
    "class pwskills3 :\n",
    "    def __init__(shubh , phonen_num,emailid , stuid):\n",
    "        shubh.phonen_num = phonen_num\n",
    "        shubh.emailid = emailid\n",
    "        shubh.stuid = stuid\n",
    "    def return_student_details(shubh):\n",
    "        return shubh.phonen_num,shubh.emailid,shubh.stuid"
   ]
  },
  {
   "cell_type": "code",
   "execution_count": 18,
   "id": "36fed665-1c50-4662-9d5f-1deeed40860b",
   "metadata": {},
   "outputs": [],
   "source": [
    "satyam = pwskills3(3439483849,\"satya@gmail.com\",34)"
   ]
  },
  {
   "cell_type": "code",
   "execution_count": 19,
   "id": "b24ba47d-3dce-4991-bf60-18d1157c74f5",
   "metadata": {},
   "outputs": [
    {
     "data": {
      "text/plain": [
       "<__main__.pwskills3 at 0x7fab29dfd240>"
      ]
     },
     "execution_count": 19,
     "metadata": {},
     "output_type": "execute_result"
    }
   ],
   "source": [
    "satyam"
   ]
  },
  {
   "cell_type": "code",
   "execution_count": 20,
   "id": "aade0cd6-b545-428e-a7d0-480d789e26fd",
   "metadata": {},
   "outputs": [
    {
     "data": {
      "text/plain": [
       "3439483849"
      ]
     },
     "execution_count": 20,
     "metadata": {},
     "output_type": "execute_result"
    }
   ],
   "source": [
    "satyam.phonen_num"
   ]
  },
  {
   "cell_type": "code",
   "execution_count": 21,
   "id": "447a08c9-c23e-4ab8-bc7d-1711a110dfd9",
   "metadata": {},
   "outputs": [
    {
     "data": {
      "text/plain": [
       "'satya@gmail.com'"
      ]
     },
     "execution_count": 21,
     "metadata": {},
     "output_type": "execute_result"
    }
   ],
   "source": [
    "satyam.emailid"
   ]
  },
  {
   "cell_type": "code",
   "execution_count": 22,
   "id": "5f6f6108-e149-4d79-a5b8-41effa6efdf6",
   "metadata": {},
   "outputs": [
    {
     "data": {
      "text/plain": [
       "34"
      ]
     },
     "execution_count": 22,
     "metadata": {},
     "output_type": "execute_result"
    }
   ],
   "source": [
    "satyam.stuid"
   ]
  },
  {
   "cell_type": "code",
   "execution_count": 1,
   "id": "81210e39-97de-4291-8e1f-774aab4ca547",
   "metadata": {},
   "outputs": [],
   "source": [
    "# here self is not reserved keyword."
   ]
  },
  {
   "cell_type": "code",
   "execution_count": 2,
   "id": "312c330c-d92f-40c0-9b1d-2deab6b5788d",
   "metadata": {},
   "outputs": [],
   "source": [
    "# Polymorphism"
   ]
  },
  {
   "cell_type": "code",
   "execution_count": 3,
   "id": "880b2c43-acc3-4650-be55-997407859ee7",
   "metadata": {},
   "outputs": [],
   "source": [
    "def test(a,b):\n",
    "    return a+b"
   ]
  },
  {
   "cell_type": "code",
   "execution_count": 4,
   "id": "bb93d050-c43e-42f7-9850-cae0bf246aec",
   "metadata": {},
   "outputs": [
    {
     "data": {
      "text/plain": [
       "13"
      ]
     },
     "execution_count": 4,
     "metadata": {},
     "output_type": "execute_result"
    }
   ],
   "source": [
    "test(5,8)"
   ]
  },
  {
   "cell_type": "code",
   "execution_count": 5,
   "id": "1fe69b01-8f8b-4ed8-9482-4f5f499cd1d3",
   "metadata": {},
   "outputs": [
    {
     "data": {
      "text/plain": [
       "'sjfjsfj'"
      ]
     },
     "execution_count": 5,
     "metadata": {},
     "output_type": "execute_result"
    }
   ],
   "source": [
    "test(\"sjfj\",\"sfj\")"
   ]
  },
  {
   "cell_type": "code",
   "execution_count": 6,
   "id": "dcba4f5e-a3ea-463e-8adb-e2337a2666f2",
   "metadata": {},
   "outputs": [
    {
     "data": {
      "text/plain": [
       "[2, 4, 5, 5, 6, 2, 3, 4, 5, 6]"
      ]
     },
     "execution_count": 6,
     "metadata": {},
     "output_type": "execute_result"
    }
   ],
   "source": [
    "test([2,4,5,5,6],[2,3,4,5,6])"
   ]
  },
  {
   "cell_type": "code",
   "execution_count": 8,
   "id": "177ff898-7581-4ad2-9a38-b93c0f3c3b74",
   "metadata": {},
   "outputs": [],
   "source": [
    "class data_science:\n",
    "    def syllabus(self):\n",
    "        print(\"This is my syllabus for data science masters\")\n",
    "              "
   ]
  },
  {
   "cell_type": "code",
   "execution_count": 9,
   "id": "e96c1494-a9c7-4ead-a19d-16ddf3cc04da",
   "metadata": {},
   "outputs": [],
   "source": [
    "class web_dev:\n",
    "    def syllabus(self):\n",
    "        print(\"this is my syllabus for web dev\")"
   ]
  },
  {
   "cell_type": "code",
   "execution_count": 10,
   "id": "2376a060-0b72-45bd-bcd3-0616682cd2ba",
   "metadata": {},
   "outputs": [],
   "source": [
    "def class_parser(class_obj):\n",
    "    for i in class_obj:\n",
    "        i.syllabus()"
   ]
  },
  {
   "cell_type": "code",
   "execution_count": 11,
   "id": "f36a5c55-4810-459e-bc04-ab022f2bf818",
   "metadata": {},
   "outputs": [],
   "source": [
    "data_science = data_science()"
   ]
  },
  {
   "cell_type": "code",
   "execution_count": 12,
   "id": "f52fb64d-c6f1-42c0-a02c-8be8335fce90",
   "metadata": {},
   "outputs": [],
   "source": [
    "web_dev = web_dev()"
   ]
  },
  {
   "cell_type": "code",
   "execution_count": 13,
   "id": "2a259fb9-4dda-42ce-9e96-16c80179f93d",
   "metadata": {},
   "outputs": [],
   "source": [
    "class_obj = [data_science,web_dev]"
   ]
  },
  {
   "cell_type": "code",
   "execution_count": 14,
   "id": "a4d799b1-b949-40fe-b102-e94bdc39ad3f",
   "metadata": {},
   "outputs": [
    {
     "name": "stdout",
     "output_type": "stream",
     "text": [
      "This is my syllabus for data science masters\n",
      "this is my syllabus for web dev\n"
     ]
    }
   ],
   "source": [
    "class_parser(class_obj)"
   ]
  },
  {
   "cell_type": "code",
   "execution_count": 15,
   "id": "6de9508c-8d40-47c8-a342-7845a3dc2430",
   "metadata": {},
   "outputs": [],
   "source": [
    "class_obj = [web_dev,data_science]"
   ]
  },
  {
   "cell_type": "code",
   "execution_count": 16,
   "id": "4570e1b2-112c-4ef0-af31-c4c238d4397f",
   "metadata": {},
   "outputs": [
    {
     "name": "stdout",
     "output_type": "stream",
     "text": [
      "this is my syllabus for web dev\n",
      "This is my syllabus for data science masters\n"
     ]
    }
   ],
   "source": [
    "class_parser(class_obj)"
   ]
  },
  {
   "cell_type": "code",
   "execution_count": 17,
   "id": "49d0169b-4b9c-4063-a69c-e21a4d963fdd",
   "metadata": {},
   "outputs": [],
   "source": [
    "#Encapsulation"
   ]
  },
  {
   "cell_type": "code",
   "execution_count": 18,
   "id": "04b0ed9b-aed2-4396-9c0c-a21d5423e62d",
   "metadata": {},
   "outputs": [],
   "source": [
    "class test:\n",
    "    def __init__(self,a,b):\n",
    "        self.a = a\n",
    "        self.b = b"
   ]
  },
  {
   "cell_type": "code",
   "execution_count": 19,
   "id": "321c0515-b9f4-49a1-9f23-46f97e9611f0",
   "metadata": {},
   "outputs": [],
   "source": [
    "t=test(34,33)"
   ]
  },
  {
   "cell_type": "code",
   "execution_count": 20,
   "id": "611d4b08-afb8-4fc9-bd9c-54676bb47e7d",
   "metadata": {},
   "outputs": [],
   "source": [
    "t.a = 5868"
   ]
  },
  {
   "cell_type": "code",
   "execution_count": 21,
   "id": "c7d04dd7-357b-41e9-8163-46ce0ad40c6b",
   "metadata": {},
   "outputs": [
    {
     "data": {
      "text/plain": [
       "5868"
      ]
     },
     "execution_count": 21,
     "metadata": {},
     "output_type": "execute_result"
    }
   ],
   "source": [
    "t.a"
   ]
  },
  {
   "cell_type": "code",
   "execution_count": 31,
   "id": "2d8eb9aa-00f9-433d-a634-6613ef74a5fd",
   "metadata": {},
   "outputs": [],
   "source": [
    "class car :\n",
    "    def __init__(self,year,make,model,speed):\n",
    "        self.__year = year\n",
    "        self.__make = make\n",
    "        self.__model = model\n",
    "        self.__speed = 0\n",
    "        \n",
    "    def set_speed(self,speed):\n",
    "        self.__speed = 0 if speed < 0 else speed\n",
    "    def get_speed(self):\n",
    "        return self.__speed"
   ]
  },
  {
   "cell_type": "code",
   "execution_count": 32,
   "id": "64f67410-c418-4f4d-878e-0dff9491a09c",
   "metadata": {},
   "outputs": [],
   "source": [
    "c = car(2020,\"kia\", \"innova\",12)"
   ]
  },
  {
   "cell_type": "code",
   "execution_count": 33,
   "id": "1fa9f4d2-6ebf-4019-b991-474b163e76c7",
   "metadata": {},
   "outputs": [
    {
     "ename": "AttributeError",
     "evalue": "'car' object has no attribute 'year'",
     "output_type": "error",
     "traceback": [
      "\u001b[0;31m---------------------------------------------------------------------------\u001b[0m",
      "\u001b[0;31mAttributeError\u001b[0m                            Traceback (most recent call last)",
      "Cell \u001b[0;32mIn[33], line 1\u001b[0m\n\u001b[0;32m----> 1\u001b[0m \u001b[43mc\u001b[49m\u001b[38;5;241;43m.\u001b[39;49m\u001b[43myear\u001b[49m\n",
      "\u001b[0;31mAttributeError\u001b[0m: 'car' object has no attribute 'year'"
     ]
    }
   ],
   "source": [
    "c.year"
   ]
  },
  {
   "cell_type": "code",
   "execution_count": 25,
   "id": "384f1c5a-ab24-48da-8f06-318e93893ada",
   "metadata": {},
   "outputs": [
    {
     "data": {
      "text/plain": [
       "2020"
      ]
     },
     "execution_count": 25,
     "metadata": {},
     "output_type": "execute_result"
    }
   ],
   "source": [
    "c._car__year"
   ]
  },
  {
   "cell_type": "code",
   "execution_count": 26,
   "id": "911d27e6-0704-49f3-bf94-379c7ad47bc8",
   "metadata": {},
   "outputs": [
    {
     "ename": "AttributeError",
     "evalue": "'car' object has no attribute '__year'",
     "output_type": "error",
     "traceback": [
      "\u001b[0;31m---------------------------------------------------------------------------\u001b[0m",
      "\u001b[0;31mAttributeError\u001b[0m                            Traceback (most recent call last)",
      "Cell \u001b[0;32mIn[26], line 1\u001b[0m\n\u001b[0;32m----> 1\u001b[0m \u001b[43mc\u001b[49m\u001b[38;5;241;43m.\u001b[39;49m\u001b[43m__year\u001b[49m\n",
      "\u001b[0;31mAttributeError\u001b[0m: 'car' object has no attribute '__year'"
     ]
    }
   ],
   "source": [
    "c.__year"
   ]
  },
  {
   "cell_type": "code",
   "execution_count": 34,
   "id": "e4e0a39c-2116-4c6a-89be-819d4cd3e4db",
   "metadata": {},
   "outputs": [],
   "source": [
    "c.set_speed(-6567)"
   ]
  },
  {
   "cell_type": "code",
   "execution_count": 35,
   "id": "112788e3-bfa1-4147-8f4f-f83019af2574",
   "metadata": {},
   "outputs": [
    {
     "data": {
      "text/plain": [
       "0"
      ]
     },
     "execution_count": 35,
     "metadata": {},
     "output_type": "execute_result"
    }
   ],
   "source": [
    "c.get_speed()"
   ]
  },
  {
   "cell_type": "code",
   "execution_count": 36,
   "id": "b74af32d-8fa8-4918-8535-2827aaacf12b",
   "metadata": {},
   "outputs": [],
   "source": [
    "c.set_speed(878)"
   ]
  },
  {
   "cell_type": "code",
   "execution_count": 37,
   "id": "d107b9ac-f37a-40a7-aa66-8efdd80ddb78",
   "metadata": {},
   "outputs": [
    {
     "data": {
      "text/plain": [
       "878"
      ]
     },
     "execution_count": 37,
     "metadata": {},
     "output_type": "execute_result"
    }
   ],
   "source": [
    "c.get_speed()"
   ]
  },
  {
   "cell_type": "code",
   "execution_count": 51,
   "id": "03f7498d-cd6f-4ba3-94b8-1aad04d36ceb",
   "metadata": {},
   "outputs": [],
   "source": [
    "class bank_account:\n",
    "    def __init__(self ,balance):\n",
    "        self.__balance = balance\n",
    "    def deposits(self , amount):\n",
    "        self.__balance = self.__balance + amount\n",
    "    def withdraw(self,amount):\n",
    "        if self.__balance >= amount:\n",
    "            self.__balance = self.__balance - amount\n",
    "            return True\n",
    "        else :\n",
    "            return False\n",
    "    def get_balance(self):\n",
    "        return self.__balance"
   ]
  },
  {
   "cell_type": "code",
   "execution_count": 55,
   "id": "b71f1d72-f054-477b-ba9b-fdc3b71ec0ac",
   "metadata": {},
   "outputs": [],
   "source": [
    "shubh = bank_account(1000)"
   ]
  },
  {
   "cell_type": "code",
   "execution_count": 53,
   "id": "bd156d99-dd5d-4e17-b6dc-0624215feb27",
   "metadata": {},
   "outputs": [],
   "source": [
    "shubh = bank_account(5000)"
   ]
  },
  {
   "cell_type": "code",
   "execution_count": 56,
   "id": "57a9f095-fe8e-4578-a2cd-30b8bda573e4",
   "metadata": {},
   "outputs": [
    {
     "data": {
      "text/plain": [
       "1000"
      ]
     },
     "execution_count": 56,
     "metadata": {},
     "output_type": "execute_result"
    }
   ],
   "source": [
    "shubh.get_balance()"
   ]
  },
  {
   "cell_type": "code",
   "execution_count": 57,
   "id": "10c5c06b-419a-4362-a4e6-ce57786151a0",
   "metadata": {},
   "outputs": [],
   "source": [
    "shubh.deposits(6000)"
   ]
  },
  {
   "cell_type": "code",
   "execution_count": 58,
   "id": "f6582415-919b-4785-83a3-1ef07a9c032a",
   "metadata": {},
   "outputs": [
    {
     "data": {
      "text/plain": [
       "7000"
      ]
     },
     "execution_count": 58,
     "metadata": {},
     "output_type": "execute_result"
    }
   ],
   "source": [
    "shubh.get_balance()"
   ]
  },
  {
   "cell_type": "code",
   "execution_count": 59,
   "id": "75e510e8-7c14-4e12-bfa0-c99423644b48",
   "metadata": {},
   "outputs": [
    {
     "data": {
      "text/plain": [
       "False"
      ]
     },
     "execution_count": 59,
     "metadata": {},
     "output_type": "execute_result"
    }
   ],
   "source": [
    "shubh.withdraw(8000)"
   ]
  },
  {
   "cell_type": "code",
   "execution_count": 60,
   "id": "418498b0-c9dc-46de-8e61-740f687aac09",
   "metadata": {},
   "outputs": [
    {
     "data": {
      "text/plain": [
       "True"
      ]
     },
     "execution_count": 60,
     "metadata": {},
     "output_type": "execute_result"
    }
   ],
   "source": [
    "shubh.withdraw(2300)"
   ]
  },
  {
   "cell_type": "code",
   "execution_count": 61,
   "id": "ba79f914-4718-4d95-883c-3e92f64a2e7e",
   "metadata": {},
   "outputs": [
    {
     "data": {
      "text/plain": [
       "4700"
      ]
     },
     "execution_count": 61,
     "metadata": {},
     "output_type": "execute_result"
    }
   ],
   "source": [
    "shubh.get_balance()"
   ]
  },
  {
   "cell_type": "code",
   "execution_count": 1,
   "id": "73e1b610-c09d-4e0c-bb94-a6eb66de9dca",
   "metadata": {},
   "outputs": [],
   "source": [
    "# Inheritance"
   ]
  },
  {
   "cell_type": "code",
   "execution_count": 2,
   "id": "742089e9-5435-4a78-8232-b6de8341cdde",
   "metadata": {},
   "outputs": [],
   "source": [
    "class test:\n",
    "    def test_meth(self):\n",
    "        return \"This is my first class\""
   ]
  },
  {
   "cell_type": "code",
   "execution_count": 3,
   "id": "e30b3054-d58b-4aba-a298-9e50f43542cd",
   "metadata": {},
   "outputs": [],
   "source": [
    "class child_test(test):\n",
    "    pass"
   ]
  },
  {
   "cell_type": "code",
   "execution_count": 4,
   "id": "72fe055c-c421-4679-b3ce-421990ad4d7a",
   "metadata": {},
   "outputs": [],
   "source": [
    "child_test_obj = child_test()"
   ]
  },
  {
   "cell_type": "code",
   "execution_count": 5,
   "id": "af8630be-b274-441f-ad4d-b242757f647c",
   "metadata": {},
   "outputs": [
    {
     "data": {
      "text/plain": [
       "'This is my first class'"
      ]
     },
     "execution_count": 5,
     "metadata": {},
     "output_type": "execute_result"
    }
   ],
   "source": [
    "child_test_obj.test_meth()"
   ]
  },
  {
   "cell_type": "code",
   "execution_count": null,
   "id": "43893f70-c157-4dff-975d-db6288fd16e3",
   "metadata": {},
   "outputs": [],
   "source": [
    "#multilevel inheritance"
   ]
  },
  {
   "cell_type": "code",
   "execution_count": 19,
   "id": "383faf2e-a236-4aef-b2da-8bcdf89015b6",
   "metadata": {},
   "outputs": [],
   "source": [
    "class class1:\n",
    "    def test_class1(self):\n",
    "        return \"this is a mthod from class1\""
   ]
  },
  {
   "cell_type": "code",
   "execution_count": 20,
   "id": "12ff82f8-9012-40ff-b887-5a39ba454677",
   "metadata": {},
   "outputs": [],
   "source": [
    "class class2(class1):\n",
    "    def test_class2(self):\n",
    "        return \"this is a methodd from class2\"\n",
    "    "
   ]
  },
  {
   "cell_type": "code",
   "execution_count": 21,
   "id": "1ad9e18e-0713-4b40-b478-c86609fe9322",
   "metadata": {},
   "outputs": [],
   "source": [
    "class class3(class2):\n",
    "    pass"
   ]
  },
  {
   "cell_type": "code",
   "execution_count": 22,
   "id": "e4062b33-0cf2-453f-8691-9dfbbf143423",
   "metadata": {},
   "outputs": [],
   "source": [
    "obj_class3 = class3()"
   ]
  },
  {
   "cell_type": "code",
   "execution_count": 23,
   "id": "935af332-b3e8-4598-abf7-2a490c1ee696",
   "metadata": {},
   "outputs": [
    {
     "data": {
      "text/plain": [
       "'this is a mthod from class1'"
      ]
     },
     "execution_count": 23,
     "metadata": {},
     "output_type": "execute_result"
    }
   ],
   "source": [
    "obj_class3.test_class1()"
   ]
  },
  {
   "cell_type": "code",
   "execution_count": 13,
   "id": "4f89a3b3-c660-4e50-a085-80fd7e08bb49",
   "metadata": {},
   "outputs": [
    {
     "data": {
      "text/plain": [
       "'this is a methodd from class2'"
      ]
     },
     "execution_count": 13,
     "metadata": {},
     "output_type": "execute_result"
    }
   ],
   "source": [
    "obj_class3.test_class2()"
   ]
  },
  {
   "cell_type": "code",
   "execution_count": 24,
   "id": "2ab84976-35f6-4871-9d5d-f49f8bb6507b",
   "metadata": {},
   "outputs": [],
   "source": [
    "#multiple inheritance"
   ]
  },
  {
   "cell_type": "code",
   "execution_count": 25,
   "id": "1cc54ad3-5d35-49de-8e3c-23e5dc0e8a8d",
   "metadata": {},
   "outputs": [],
   "source": [
    "class class12:\n",
    "    def test_class12(self):\n",
    "        return \"this is a class1\"\n",
    "    "
   ]
  },
  {
   "cell_type": "code",
   "execution_count": 26,
   "id": "48ea7bc3-8307-4c83-a050-e07f0de5aba0",
   "metadata": {},
   "outputs": [],
   "source": [
    "class class123:\n",
    "    def test_class123(self):\n",
    "        return \"this is class2\""
   ]
  },
  {
   "cell_type": "code",
   "execution_count": 28,
   "id": "0000dde4-fe84-4cda-a366-9e80c2f86ffb",
   "metadata": {},
   "outputs": [],
   "source": [
    "class class1234(class12,class123):\n",
    "    pass"
   ]
  },
  {
   "cell_type": "code",
   "execution_count": 29,
   "id": "c4453e39-8da5-4717-8834-ace0ce63ccd1",
   "metadata": {},
   "outputs": [],
   "source": [
    "obj_class3 = class1234()"
   ]
  },
  {
   "cell_type": "code",
   "execution_count": 31,
   "id": "43155e22-0f3b-4e35-912e-87805cf7062c",
   "metadata": {},
   "outputs": [
    {
     "data": {
      "text/plain": [
       "'this is a class1'"
      ]
     },
     "execution_count": 31,
     "metadata": {},
     "output_type": "execute_result"
    }
   ],
   "source": [
    "obj_class3.test_class12()"
   ]
  },
  {
   "cell_type": "code",
   "execution_count": 33,
   "id": "f4cfb5ad-7817-4bc3-a9e1-d8afd9965fa7",
   "metadata": {},
   "outputs": [
    {
     "data": {
      "text/plain": [
       "'this is class2'"
      ]
     },
     "execution_count": 33,
     "metadata": {},
     "output_type": "execute_result"
    }
   ],
   "source": [
    "obj_class3.test_class123()"
   ]
  },
  {
   "cell_type": "code",
   "execution_count": 34,
   "id": "5316d280-6b2b-4b32-974c-177bf2cec9c0",
   "metadata": {},
   "outputs": [],
   "source": [
    "#decorator"
   ]
  },
  {
   "cell_type": "code",
   "execution_count": 37,
   "id": "132b9e48-4f8d-48a6-9bbf-59444de9a6ca",
   "metadata": {},
   "outputs": [],
   "source": [
    "def test():\n",
    "    print(\"this is start of my function\")\n",
    "    print(\"this is my function to test \")\n",
    "    print(\"end function\")"
   ]
  },
  {
   "cell_type": "code",
   "execution_count": 38,
   "id": "98347d55-a296-4910-bc8f-ff2eb9ab117a",
   "metadata": {},
   "outputs": [
    {
     "name": "stdout",
     "output_type": "stream",
     "text": [
      "this is start of my function\n",
      "this is my function to test \n",
      "end function\n"
     ]
    }
   ],
   "source": [
    "test()"
   ]
  },
  {
   "cell_type": "code",
   "execution_count": 39,
   "id": "8c5dff2f-1df6-4822-96ce-dad205d642b6",
   "metadata": {},
   "outputs": [],
   "source": [
    "def deco(func):\n",
    "    def inner_deco():\n",
    "        print(\"this is start of my function\")\n",
    "        func()\n",
    "        print(\"end function\")\n",
    "    return inner_deco"
   ]
  },
  {
   "cell_type": "code",
   "execution_count": 42,
   "id": "5107e6d2-945f-4356-bcd2-05cc63620dfc",
   "metadata": {},
   "outputs": [],
   "source": [
    "@deco\n",
    "def test1():\n",
    "    print(623+54)"
   ]
  },
  {
   "cell_type": "code",
   "execution_count": 43,
   "id": "97dcf8bb-f71a-4b8e-aaf1-ad990245cefd",
   "metadata": {},
   "outputs": [
    {
     "name": "stdout",
     "output_type": "stream",
     "text": [
      "this is start of my function\n",
      "677\n",
      "end function\n"
     ]
    }
   ],
   "source": [
    "test1()"
   ]
  },
  {
   "cell_type": "code",
   "execution_count": 55,
   "id": "4d5f3689-aaab-48a1-8a42-29a89c09d118",
   "metadata": {},
   "outputs": [],
   "source": [
    "import time\n",
    "def timer_test(func):\n",
    "    def timer_test_inner():\n",
    "        start = time.time()\n",
    "        func()\n",
    "        end = time.time()\n",
    "        return timer_test_inner"
   ]
  },
  {
   "cell_type": "code",
   "execution_count": 56,
   "id": "b1d747ee-67f0-4caf-b35f-08983afa0a68",
   "metadata": {},
   "outputs": [],
   "source": [
    "def test2():\n",
    "    print(34+65)"
   ]
  },
  {
   "cell_type": "code",
   "execution_count": 57,
   "id": "3e31a4f2-c3ab-4486-b227-5d4cb2a5ef10",
   "metadata": {},
   "outputs": [
    {
     "name": "stdout",
     "output_type": "stream",
     "text": [
      "99\n"
     ]
    }
   ],
   "source": [
    "test2()"
   ]
  },
  {
   "cell_type": "code",
   "execution_count": 58,
   "id": "b6fffa35-d42f-40cf-88c6-3a74ce7bfa14",
   "metadata": {},
   "outputs": [],
   "source": [
    "@timer_test\n",
    "def test2():\n",
    "    print(34+65)"
   ]
  },
  {
   "cell_type": "code",
   "execution_count": 59,
   "id": "b6a60df9-3ed1-452b-a5b3-5dba339c5986",
   "metadata": {},
   "outputs": [
    {
     "ename": "TypeError",
     "evalue": "'NoneType' object is not callable",
     "output_type": "error",
     "traceback": [
      "\u001b[0;31m---------------------------------------------------------------------------\u001b[0m",
      "\u001b[0;31mTypeError\u001b[0m                                 Traceback (most recent call last)",
      "Cell \u001b[0;32mIn[59], line 1\u001b[0m\n\u001b[0;32m----> 1\u001b[0m \u001b[43mtest2\u001b[49m\u001b[43m(\u001b[49m\u001b[43m)\u001b[49m\n",
      "\u001b[0;31mTypeError\u001b[0m: 'NoneType' object is not callable"
     ]
    }
   ],
   "source": [
    "test2()"
   ]
  },
  {
   "cell_type": "code",
   "execution_count": 62,
   "id": "a561b68c-4893-49a3-9b42-00d5abfce099",
   "metadata": {},
   "outputs": [],
   "source": [
    "@timer_test\n",
    "def test():\n",
    "    for i in range(1000000):\n",
    "        pass"
   ]
  },
  {
   "cell_type": "code",
   "execution_count": 63,
   "id": "dd43fb8a-1578-4533-a46f-6a026b90d5a9",
   "metadata": {},
   "outputs": [
    {
     "ename": "TypeError",
     "evalue": "'NoneType' object is not callable",
     "output_type": "error",
     "traceback": [
      "\u001b[0;31m---------------------------------------------------------------------------\u001b[0m",
      "\u001b[0;31mTypeError\u001b[0m                                 Traceback (most recent call last)",
      "Cell \u001b[0;32mIn[63], line 1\u001b[0m\n\u001b[0;32m----> 1\u001b[0m \u001b[43mtest\u001b[49m\u001b[43m(\u001b[49m\u001b[43m)\u001b[49m\n",
      "\u001b[0;31mTypeError\u001b[0m: 'NoneType' object is not callable"
     ]
    }
   ],
   "source": [
    "test()"
   ]
  },
  {
   "cell_type": "code",
   "execution_count": 1,
   "id": "e8595c53-8f13-4bb0-b363-24cd178de05c",
   "metadata": {},
   "outputs": [],
   "source": [
    "#class method"
   ]
  },
  {
   "cell_type": "code",
   "execution_count": 2,
   "id": "943a7b30-2aef-4b93-b05e-1a8d3a22054b",
   "metadata": {},
   "outputs": [],
   "source": [
    "class shubham:\n",
    "    def __init__(self ,name,email):\n",
    "        self.name = name\n",
    "        self.email = email\n",
    "    def student_details(self):\n",
    "        print(self.name , self.email)\n",
    "        "
   ]
  },
  {
   "cell_type": "code",
   "execution_count": 3,
   "id": "1a25d1d1-e594-4295-837d-1c5cf03cc5e1",
   "metadata": {},
   "outputs": [],
   "source": [
    "er = shubham(\"sss\",\"shdjf@gmail.com\")"
   ]
  },
  {
   "cell_type": "code",
   "execution_count": 4,
   "id": "c60b236d-ba16-402f-9d7e-a53b2913586f",
   "metadata": {},
   "outputs": [
    {
     "data": {
      "text/plain": [
       "'sss'"
      ]
     },
     "execution_count": 4,
     "metadata": {},
     "output_type": "execute_result"
    }
   ],
   "source": [
    "er.name"
   ]
  },
  {
   "cell_type": "code",
   "execution_count": 5,
   "id": "e9d86545-4a64-4f1a-aa75-020416dc1f90",
   "metadata": {},
   "outputs": [
    {
     "data": {
      "text/plain": [
       "'shdjf@gmail.com'"
      ]
     },
     "execution_count": 5,
     "metadata": {},
     "output_type": "execute_result"
    }
   ],
   "source": [
    "er.email"
   ]
  },
  {
   "cell_type": "code",
   "execution_count": 6,
   "id": "2fc41f1e-1282-49ad-96af-04ba085fbfeb",
   "metadata": {},
   "outputs": [
    {
     "name": "stdout",
     "output_type": "stream",
     "text": [
      "sss shdjf@gmail.com\n"
     ]
    }
   ],
   "source": [
    "er.student_details()"
   ]
  },
  {
   "cell_type": "code",
   "execution_count": 7,
   "id": "34bc1fae-4a75-4457-b4ea-8c28f20918ac",
   "metadata": {},
   "outputs": [],
   "source": [
    "class shubham1:\n",
    "    def __init__(self ,name,email):\n",
    "        self.name = name\n",
    "        self.email = email\n",
    "    @classmethod\n",
    "    def details(cls , name, email):\n",
    "        return cls(name,email)\n",
    "    def student_details(self):\n",
    "        print(self.name , self.email)"
   ]
  },
  {
   "cell_type": "code",
   "execution_count": 8,
   "id": "1f77ce11-b4f8-43a5-bc1f-bdfb44b69fc8",
   "metadata": {},
   "outputs": [
    {
     "data": {
      "text/plain": [
       "<__main__.shubham at 0x7eff372d2d10>"
      ]
     },
     "execution_count": 8,
     "metadata": {},
     "output_type": "execute_result"
    }
   ],
   "source": [
    "er"
   ]
  },
  {
   "cell_type": "code",
   "execution_count": 9,
   "id": "39823757-353e-4294-a32c-4af41006ac5e",
   "metadata": {},
   "outputs": [],
   "source": [
    "er = shubham1.details(\"shubham\",\"ssh@gmail.com\")"
   ]
  },
  {
   "cell_type": "code",
   "execution_count": 10,
   "id": "3df5830c-3be7-48a0-9edd-e5feab9e5000",
   "metadata": {},
   "outputs": [
    {
     "data": {
      "text/plain": [
       "'shubham'"
      ]
     },
     "execution_count": 10,
     "metadata": {},
     "output_type": "execute_result"
    }
   ],
   "source": [
    "er.name"
   ]
  },
  {
   "cell_type": "code",
   "execution_count": 11,
   "id": "bf0c24eb-2559-40fc-b67f-b67ba256ae2d",
   "metadata": {},
   "outputs": [
    {
     "data": {
      "text/plain": [
       "'ssh@gmail.com'"
      ]
     },
     "execution_count": 11,
     "metadata": {},
     "output_type": "execute_result"
    }
   ],
   "source": [
    "er.email"
   ]
  },
  {
   "cell_type": "code",
   "execution_count": 1,
   "id": "6751a927-2976-4ae4-8c09-64afdee295fb",
   "metadata": {
    "tags": []
   },
   "outputs": [],
   "source": [
    "class shubham2:\n",
    "    mobile_num = 9165445485\n",
    "    def __init__(self ,name,email):\n",
    "        self.name = name\n",
    "        self.email = email\n",
    "    @classmethod\n",
    "    def change_num(cls,mobile):\n",
    "        shubham2.mobile_num = mobile\n",
    "    @classmethod\n",
    "    def details(cls , name, email):\n",
    "        return cls(name,email)\n",
    "    def student_details(self):\n",
    "        print(self.name , self.email,shubham2.mobile_num)"
   ]
  },
  {
   "cell_type": "code",
   "execution_count": 2,
   "id": "82f527cb-ce0b-4e84-91ab-12ad212f9925",
   "metadata": {},
   "outputs": [],
   "source": [
    "pw = shubham2.details(\"dhdhf\",\"ahsh@gmail.com\")"
   ]
  },
  {
   "cell_type": "code",
   "execution_count": 3,
   "id": "ec20f49c-a675-4d84-8e1a-6206532fbd81",
   "metadata": {},
   "outputs": [
    {
     "name": "stdout",
     "output_type": "stream",
     "text": [
      "dhdhf ahsh@gmail.com 9165445485\n"
     ]
    }
   ],
   "source": [
    "pw.student_details()"
   ]
  },
  {
   "cell_type": "code",
   "execution_count": 4,
   "id": "5910e9ab-df5d-4bc3-b065-6a254325d4f8",
   "metadata": {},
   "outputs": [],
   "source": [
    "pw_obj = shubham2(\"shsh\",\"ffdd@gmail.com\")"
   ]
  },
  {
   "cell_type": "code",
   "execution_count": 5,
   "id": "54cff3c6-04aa-4b08-8631-0cd26e1d33e3",
   "metadata": {},
   "outputs": [
    {
     "name": "stdout",
     "output_type": "stream",
     "text": [
      "shsh ffdd@gmail.com 9165445485\n"
     ]
    }
   ],
   "source": [
    "pw_obj.student_details()"
   ]
  },
  {
   "cell_type": "code",
   "execution_count": 6,
   "id": "258887e9-7002-4394-aac1-4410e2126d65",
   "metadata": {},
   "outputs": [],
   "source": [
    "shubham2.change_num(9293948848)"
   ]
  },
  {
   "cell_type": "code",
   "execution_count": null,
   "id": "f665cb38-c01d-4aa1-a0d1-8ed7e1d06c2d",
   "metadata": {},
   "outputs": [],
   "source": []
  },
  {
   "cell_type": "code",
   "execution_count": 7,
   "id": "cb6335d6-8e08-42df-8ffe-ab9ff17a071d",
   "metadata": {},
   "outputs": [
    {
     "data": {
      "text/plain": [
       "9293948848"
      ]
     },
     "execution_count": 7,
     "metadata": {},
     "output_type": "execute_result"
    }
   ],
   "source": [
    "shubham2.mobile_num"
   ]
  },
  {
   "cell_type": "code",
   "execution_count": 8,
   "id": "f85bf3b5-48bd-447d-9a9e-534a26a71e70",
   "metadata": {},
   "outputs": [],
   "source": [
    "def course_detail(cls,course_name):\n",
    "    print(\"course name is\",course_name)"
   ]
  },
  {
   "cell_type": "code",
   "execution_count": 9,
   "id": "3af38ec0-e96c-4ea5-889b-6d36ba5bb630",
   "metadata": {},
   "outputs": [],
   "source": [
    "shubham2.course_detail = classmethod(course_detail)"
   ]
  },
  {
   "cell_type": "code",
   "execution_count": 10,
   "id": "00e70862-9765-4228-a1b8-01ae7a2c7f80",
   "metadata": {},
   "outputs": [
    {
     "name": "stdout",
     "output_type": "stream",
     "text": [
      "course name is data science masters\n"
     ]
    }
   ],
   "source": [
    "shubham2.course_detail(\"data science masters\")"
   ]
  },
  {
   "cell_type": "code",
   "execution_count": 11,
   "id": "681ff562-22be-4e70-ac54-819595607012",
   "metadata": {},
   "outputs": [],
   "source": [
    "def student(cls,list_of_stu):\n",
    "    print(list_of_stu)"
   ]
  },
  {
   "cell_type": "code",
   "execution_count": 13,
   "id": "4e3b56be-efec-44ff-aa30-1c8e34bd002b",
   "metadata": {},
   "outputs": [],
   "source": [
    "shubham2.student = classmethod(student)"
   ]
  },
  {
   "cell_type": "code",
   "execution_count": 14,
   "id": "7b59fd6d-f94a-49dc-bcd0-18de50e2ccbb",
   "metadata": {},
   "outputs": [
    {
     "data": {
      "text/plain": [
       "__main__.shubham2"
      ]
     },
     "execution_count": 14,
     "metadata": {},
     "output_type": "execute_result"
    }
   ],
   "source": [
    "shubham2"
   ]
  },
  {
   "cell_type": "code",
   "execution_count": 16,
   "id": "51eba4a4-bc40-4932-b696-738284931b28",
   "metadata": {},
   "outputs": [
    {
     "name": "stdout",
     "output_type": "stream",
     "text": [
      "['shubham', 'vinay']\n"
     ]
    }
   ],
   "source": [
    "shubham2.student([\"shubham\",\"vinay\"])"
   ]
  },
  {
   "cell_type": "code",
   "execution_count": 19,
   "id": "8512f3c2-b4b5-4bed-a3c9-593ba56ad631",
   "metadata": {},
   "outputs": [],
   "source": [
    "class shubham4:\n",
    "    mobile_num = 9165445485\n",
    "    def __init__(self ,name,email):\n",
    "        self.name = name\n",
    "        self.email = email\n",
    "    @classmethod\n",
    "    def change_num(cls,mobile):\n",
    "        shubham2.mobile_num = mobile\n",
    "    @classmethod\n",
    "    def details(cls , name, email):\n",
    "        return cls(name,email)\n",
    "    def student_details(self):\n",
    "        print(self.name , self.email,shubham2.mobile_num)"
   ]
  },
  {
   "cell_type": "code",
   "execution_count": 20,
   "id": "536cc9e5-951b-4219-bc72-469e370a5920",
   "metadata": {},
   "outputs": [],
   "source": [
    "del shubham4.change_num"
   ]
  },
  {
   "cell_type": "code",
   "execution_count": 22,
   "id": "7183b3c6-0731-4bc3-8c66-12b24e4059b6",
   "metadata": {},
   "outputs": [
    {
     "ename": "AttributeError",
     "evalue": "type object 'shubham4' has no attribute 'change_num'",
     "output_type": "error",
     "traceback": [
      "\u001b[0;31m---------------------------------------------------------------------------\u001b[0m",
      "\u001b[0;31mAttributeError\u001b[0m                            Traceback (most recent call last)",
      "Cell \u001b[0;32mIn[22], line 1\u001b[0m\n\u001b[0;32m----> 1\u001b[0m \u001b[43mshubham4\u001b[49m\u001b[38;5;241;43m.\u001b[39;49m\u001b[43mchange_num\u001b[49m(\u001b[38;5;241m3484585858\u001b[39m)\n",
      "\u001b[0;31mAttributeError\u001b[0m: type object 'shubham4' has no attribute 'change_num'"
     ]
    }
   ],
   "source": [
    "shubham4.change_num(3484585858)"
   ]
  },
  {
   "cell_type": "code",
   "execution_count": 23,
   "id": "d14aec12-d68c-44e1-b5f2-05358277883b",
   "metadata": {},
   "outputs": [],
   "source": [
    "delattr(shubham4 , \"details\")"
   ]
  },
  {
   "cell_type": "code",
   "execution_count": 25,
   "id": "8f9774a5-1db8-4a51-aa90-a526b093e8ac",
   "metadata": {},
   "outputs": [],
   "source": [
    "delattr(shubham4 , \"student_details\")"
   ]
  },
  {
   "cell_type": "code",
   "execution_count": 26,
   "id": "a3ea590a-d341-478c-bcd7-bc5ef352b79c",
   "metadata": {},
   "outputs": [],
   "source": [
    "delattr(shubham4 , \"mobile_num\")"
   ]
  },
  {
   "cell_type": "code",
   "execution_count": 27,
   "id": "fac1ad9d-72ee-4211-894c-91490c00c71a",
   "metadata": {},
   "outputs": [
    {
     "ename": "SyntaxError",
     "evalue": "invalid syntax (3409077235.py, line 1)",
     "output_type": "error",
     "traceback": [
      "\u001b[0;36m  Cell \u001b[0;32mIn[27], line 1\u001b[0;36m\u001b[0m\n\u001b[0;31m    shubham4.\u001b[0m\n\u001b[0m             ^\u001b[0m\n\u001b[0;31mSyntaxError\u001b[0m\u001b[0;31m:\u001b[0m invalid syntax\n"
     ]
    }
   ],
   "source": [
    "shubham4."
   ]
  },
  {
   "cell_type": "code",
   "execution_count": 28,
   "id": "fd708dd7-8c65-402d-b44d-044e3def4c5d",
   "metadata": {},
   "outputs": [],
   "source": [
    "#static method"
   ]
  },
  {
   "cell_type": "code",
   "execution_count": 29,
   "id": "6f491bed-d478-4175-a9be-278ac4431a2f",
   "metadata": {},
   "outputs": [],
   "source": [
    "class shubh :\n",
    "    def student_details(self,name,mailid,num):\n",
    "        print(name,mailid,num)"
   ]
  },
  {
   "cell_type": "code",
   "execution_count": 30,
   "id": "04299957-cac8-433f-8784-799c02cf1296",
   "metadata": {},
   "outputs": [],
   "source": [
    "sg = shubh()"
   ]
  },
  {
   "cell_type": "code",
   "execution_count": 31,
   "id": "7cdbfae8-5e45-4f68-b0eb-03080a5422b4",
   "metadata": {},
   "outputs": [
    {
     "name": "stdout",
     "output_type": "stream",
     "text": [
      "shfjd ssh@gmail.com 4857475847\n"
     ]
    }
   ],
   "source": [
    "sg.student_details(\"shfjd\",\"ssh@gmail.com\",4857475847)"
   ]
  },
  {
   "cell_type": "code",
   "execution_count": 3,
   "id": "9f10abe6-aca0-41e4-a2a7-35d26b7f0b38",
   "metadata": {},
   "outputs": [],
   "source": [
    "class shubh :\n",
    "    def student_details(self,name,mailid,num):\n",
    "        print(name,mailid,num)\n",
    "    \n",
    "    @staticmethod\n",
    "    def stud(list_student):\n",
    "        print(list_student)\n",
    "    def shu(self,stu_dent):\n",
    "        print(stu_dent)"
   ]
  },
  {
   "cell_type": "code",
   "execution_count": 4,
   "id": "fe674914-87b8-4489-a369-4545d382567c",
   "metadata": {},
   "outputs": [
    {
     "name": "stdout",
     "output_type": "stream",
     "text": [
      "['sfjfj', 'fhfh']\n"
     ]
    }
   ],
   "source": [
    "shubh.stud([\"sfjfj\",\"fhfh\"])"
   ]
  },
  {
   "cell_type": "code",
   "execution_count": 5,
   "id": "9e4d7eea-edf4-4975-b1e9-967face99e1d",
   "metadata": {},
   "outputs": [
    {
     "name": "stdout",
     "output_type": "stream",
     "text": [
      "fjfj\n"
     ]
    }
   ],
   "source": [
    "shubh.shu(\"sdjd\",\"fjfj\")"
   ]
  },
  {
   "cell_type": "code",
   "execution_count": 15,
   "id": "7f338f60-40a1-4b17-a71f-7001c1f4e7ca",
   "metadata": {},
   "outputs": [],
   "source": [
    "class shubh2 :\n",
    "    def student_details(self,name,mailid,num):\n",
    "        print(name,mailid,num)\n",
    "    \n",
    "    @staticmethod\n",
    "    def stud_mail_id(mailid_student):\n",
    "        print(mailid_student)\n",
    "    @staticmethod\n",
    "    def stud(list_student):\n",
    "        shubh2.stud_mail_id([\"shbub@gmail.com\",\"sjdsj@gmail.com\"])\n",
    "        print(list_student)\n",
    "    @classmethod\n",
    "    def class_name(cls):\n",
    "        cls.stud([\"shubham\",\"shshd\"])\n",
    "    def shu(self,stu_dent):\n",
    "        print(stu_dent)\n",
    "        self.stud([\"gupta\",\"shfh\"])\n",
    "        "
   ]
  },
  {
   "cell_type": "code",
   "execution_count": 16,
   "id": "cdb582fb-489e-4942-b9d6-ff99909663c0",
   "metadata": {},
   "outputs": [],
   "source": [
    "sr = shubh2()"
   ]
  },
  {
   "cell_type": "code",
   "execution_count": 14,
   "id": "43367286-2d60-4912-a69c-b3ee6f4065e3",
   "metadata": {},
   "outputs": [
    {
     "name": "stdout",
     "output_type": "stream",
     "text": [
      "['shbub@gmail.com', 'sjdsj@gmail.com']\n",
      "['shubham', 'shshd']\n"
     ]
    }
   ],
   "source": [
    "shubh2.stud([\"shubham\",\"shshd\"])"
   ]
  },
  {
   "cell_type": "code",
   "execution_count": 18,
   "id": "884bb5f0-c12d-4a88-9c7c-44e1afb071b2",
   "metadata": {},
   "outputs": [
    {
     "name": "stdout",
     "output_type": "stream",
     "text": [
      "['gupta', 'shfh']\n",
      "['shbub@gmail.com', 'sjdsj@gmail.com']\n",
      "['gupta', 'shfh']\n"
     ]
    }
   ],
   "source": [
    "sr.shu([\"gupta\",\"shfh\"])"
   ]
  },
  {
   "cell_type": "code",
   "execution_count": 19,
   "id": "d7a84d20-4427-4800-8528-fa9cfb0b8a1d",
   "metadata": {},
   "outputs": [],
   "source": [
    "#special (magic/dunder) methods"
   ]
  },
  {
   "cell_type": "code",
   "execution_count": 20,
   "id": "cac40f36-440e-4975-9990-df2ab2de86ad",
   "metadata": {},
   "outputs": [
    {
     "data": {
      "text/plain": [
       "['__abs__',\n",
       " '__add__',\n",
       " '__and__',\n",
       " '__bool__',\n",
       " '__ceil__',\n",
       " '__class__',\n",
       " '__delattr__',\n",
       " '__dir__',\n",
       " '__divmod__',\n",
       " '__doc__',\n",
       " '__eq__',\n",
       " '__float__',\n",
       " '__floor__',\n",
       " '__floordiv__',\n",
       " '__format__',\n",
       " '__ge__',\n",
       " '__getattribute__',\n",
       " '__getnewargs__',\n",
       " '__gt__',\n",
       " '__hash__',\n",
       " '__index__',\n",
       " '__init__',\n",
       " '__init_subclass__',\n",
       " '__int__',\n",
       " '__invert__',\n",
       " '__le__',\n",
       " '__lshift__',\n",
       " '__lt__',\n",
       " '__mod__',\n",
       " '__mul__',\n",
       " '__ne__',\n",
       " '__neg__',\n",
       " '__new__',\n",
       " '__or__',\n",
       " '__pos__',\n",
       " '__pow__',\n",
       " '__radd__',\n",
       " '__rand__',\n",
       " '__rdivmod__',\n",
       " '__reduce__',\n",
       " '__reduce_ex__',\n",
       " '__repr__',\n",
       " '__rfloordiv__',\n",
       " '__rlshift__',\n",
       " '__rmod__',\n",
       " '__rmul__',\n",
       " '__ror__',\n",
       " '__round__',\n",
       " '__rpow__',\n",
       " '__rrshift__',\n",
       " '__rshift__',\n",
       " '__rsub__',\n",
       " '__rtruediv__',\n",
       " '__rxor__',\n",
       " '__setattr__',\n",
       " '__sizeof__',\n",
       " '__str__',\n",
       " '__sub__',\n",
       " '__subclasshook__',\n",
       " '__truediv__',\n",
       " '__trunc__',\n",
       " '__xor__',\n",
       " 'as_integer_ratio',\n",
       " 'bit_count',\n",
       " 'bit_length',\n",
       " 'conjugate',\n",
       " 'denominator',\n",
       " 'from_bytes',\n",
       " 'imag',\n",
       " 'numerator',\n",
       " 'real',\n",
       " 'to_bytes']"
      ]
     },
     "execution_count": 20,
     "metadata": {},
     "output_type": "execute_result"
    }
   ],
   "source": [
    "dir(int)"
   ]
  },
  {
   "cell_type": "code",
   "execution_count": 21,
   "id": "5856805f-5fc7-46ef-b74e-6d83e1ed65ba",
   "metadata": {},
   "outputs": [
    {
     "data": {
      "text/plain": [
       "['__add__',\n",
       " '__class__',\n",
       " '__contains__',\n",
       " '__delattr__',\n",
       " '__dir__',\n",
       " '__doc__',\n",
       " '__eq__',\n",
       " '__format__',\n",
       " '__ge__',\n",
       " '__getattribute__',\n",
       " '__getitem__',\n",
       " '__getnewargs__',\n",
       " '__gt__',\n",
       " '__hash__',\n",
       " '__init__',\n",
       " '__init_subclass__',\n",
       " '__iter__',\n",
       " '__le__',\n",
       " '__len__',\n",
       " '__lt__',\n",
       " '__mod__',\n",
       " '__mul__',\n",
       " '__ne__',\n",
       " '__new__',\n",
       " '__reduce__',\n",
       " '__reduce_ex__',\n",
       " '__repr__',\n",
       " '__rmod__',\n",
       " '__rmul__',\n",
       " '__setattr__',\n",
       " '__sizeof__',\n",
       " '__str__',\n",
       " '__subclasshook__',\n",
       " 'capitalize',\n",
       " 'casefold',\n",
       " 'center',\n",
       " 'count',\n",
       " 'encode',\n",
       " 'endswith',\n",
       " 'expandtabs',\n",
       " 'find',\n",
       " 'format',\n",
       " 'format_map',\n",
       " 'index',\n",
       " 'isalnum',\n",
       " 'isalpha',\n",
       " 'isascii',\n",
       " 'isdecimal',\n",
       " 'isdigit',\n",
       " 'isidentifier',\n",
       " 'islower',\n",
       " 'isnumeric',\n",
       " 'isprintable',\n",
       " 'isspace',\n",
       " 'istitle',\n",
       " 'isupper',\n",
       " 'join',\n",
       " 'ljust',\n",
       " 'lower',\n",
       " 'lstrip',\n",
       " 'maketrans',\n",
       " 'partition',\n",
       " 'removeprefix',\n",
       " 'removesuffix',\n",
       " 'replace',\n",
       " 'rfind',\n",
       " 'rindex',\n",
       " 'rjust',\n",
       " 'rpartition',\n",
       " 'rsplit',\n",
       " 'rstrip',\n",
       " 'split',\n",
       " 'splitlines',\n",
       " 'startswith',\n",
       " 'strip',\n",
       " 'swapcase',\n",
       " 'title',\n",
       " 'translate',\n",
       " 'upper',\n",
       " 'zfill']"
      ]
     },
     "execution_count": 21,
     "metadata": {},
     "output_type": "execute_result"
    }
   ],
   "source": [
    "dir(str)"
   ]
  },
  {
   "cell_type": "code",
   "execution_count": 22,
   "id": "625b8db0-c3a3-4f26-b49b-ba759b94c01e",
   "metadata": {},
   "outputs": [
    {
     "data": {
      "text/plain": [
       "105"
      ]
     },
     "execution_count": 22,
     "metadata": {},
     "output_type": "execute_result"
    }
   ],
   "source": [
    "a = 100\n",
    "a+5"
   ]
  },
  {
   "cell_type": "code",
   "execution_count": 24,
   "id": "ae6271e8-2257-4885-9c3f-f4734bd155dd",
   "metadata": {},
   "outputs": [
    {
     "data": {
      "text/plain": [
       "105"
      ]
     },
     "execution_count": 24,
     "metadata": {},
     "output_type": "execute_result"
    }
   ],
   "source": [
    "a.__add__(5)"
   ]
  },
  {
   "cell_type": "code",
   "execution_count": 30,
   "id": "69d44cb5-4a19-4831-9332-23db57e8728a",
   "metadata": {},
   "outputs": [],
   "source": [
    "class pwskills:\n",
    "    def __new__(cls):\n",
    "        print(\"dfjfj fdjffjjf\")\n",
    "    def __init__(self):\n",
    "        print(\"shfjs fjf fjfas \")\n",
    "        \n",
    "        self.mobile_num = 48574857"
   ]
  },
  {
   "cell_type": "code",
   "execution_count": 31,
   "id": "aa666e70-3516-4de2-a3da-b5b5eda02f0b",
   "metadata": {},
   "outputs": [
    {
     "name": "stdout",
     "output_type": "stream",
     "text": [
      "dfjfj fdjffjjf\n"
     ]
    }
   ],
   "source": [
    "pw = pwskills()"
   ]
  },
  {
   "cell_type": "code",
   "execution_count": 27,
   "id": "744b5aa8-c66b-4670-bfb8-b9bfcf676a45",
   "metadata": {},
   "outputs": [
    {
     "data": {
      "text/plain": [
       "48574857"
      ]
     },
     "execution_count": 27,
     "metadata": {},
     "output_type": "execute_result"
    }
   ],
   "source": [
    "pw.mobile_num"
   ]
  },
  {
   "cell_type": "code",
   "execution_count": 42,
   "id": "7dccd677-7f8a-4bac-9c0a-e26f6f422501",
   "metadata": {},
   "outputs": [],
   "source": [
    "class pwskills1:\n",
    "    \n",
    "    def __init__(self):\n",
    "        \n",
    "        \n",
    "        self.mobile_num = 48574857\n",
    "    #def __str__(self):\n",
    "     #   return \"sjfjf sfksfi sfhf sfj\""
   ]
  },
  {
   "cell_type": "code",
   "execution_count": 43,
   "id": "53eda418-b7d4-424a-a113-90f6bd9d08df",
   "metadata": {},
   "outputs": [],
   "source": [
    "pw1 = pwskills1()"
   ]
  },
  {
   "cell_type": "code",
   "execution_count": 44,
   "id": "be85a2cc-3a19-4f30-a20c-921a84d693ec",
   "metadata": {},
   "outputs": [
    {
     "data": {
      "text/plain": [
       "<__main__.pwskills1 at 0x7f9a59deea70>"
      ]
     },
     "execution_count": 44,
     "metadata": {},
     "output_type": "execute_result"
    }
   ],
   "source": [
    "pw1"
   ]
  },
  {
   "cell_type": "code",
   "execution_count": 45,
   "id": "a183cd90-0c63-44a2-a84c-05e827618c4e",
   "metadata": {},
   "outputs": [
    {
     "name": "stdout",
     "output_type": "stream",
     "text": [
      "<__main__.pwskills1 object at 0x7f9a59deea70>\n"
     ]
    }
   ],
   "source": [
    "print(pw1)"
   ]
  },
  {
   "cell_type": "code",
   "execution_count": 46,
   "id": "ee93f07f-1f84-4e2b-81d7-6809d7177cf8",
   "metadata": {},
   "outputs": [],
   "source": [
    "#Property Decorators - Getters ,setters and Deletes"
   ]
  },
  {
   "cell_type": "code",
   "execution_count": 49,
   "id": "bed0d3cd-1123-444c-89ea-1d7f3d8d9ee1",
   "metadata": {},
   "outputs": [],
   "source": [
    "class pwskills3:\n",
    "    def __init__(self ,course_price , course_name):\n",
    "        self.__course_price = course_price\n",
    "        self.course_name = course_name"
   ]
  },
  {
   "cell_type": "code",
   "execution_count": 50,
   "id": "756de8d4-7f1b-44c8-8f92-95bb367bfc5d",
   "metadata": {},
   "outputs": [],
   "source": [
    "pw = pwskills3(3500,\"data science\")"
   ]
  },
  {
   "cell_type": "code",
   "execution_count": 51,
   "id": "7ed0aeb3-55d2-488b-806e-b9cc1a511502",
   "metadata": {},
   "outputs": [
    {
     "ename": "AttributeError",
     "evalue": "'pwskills3' object has no attribute '__course_price'",
     "output_type": "error",
     "traceback": [
      "\u001b[0;31m---------------------------------------------------------------------------\u001b[0m",
      "\u001b[0;31mAttributeError\u001b[0m                            Traceback (most recent call last)",
      "Cell \u001b[0;32mIn[51], line 1\u001b[0m\n\u001b[0;32m----> 1\u001b[0m \u001b[43mpw\u001b[49m\u001b[38;5;241;43m.\u001b[39;49m\u001b[43m__course_price\u001b[49m\n",
      "\u001b[0;31mAttributeError\u001b[0m: 'pwskills3' object has no attribute '__course_price'"
     ]
    }
   ],
   "source": [
    "pw.__course_price"
   ]
  },
  {
   "cell_type": "code",
   "execution_count": 52,
   "id": "1fe08818-743d-46d4-be05-3f3913b84097",
   "metadata": {},
   "outputs": [
    {
     "data": {
      "text/plain": [
       "'data science'"
      ]
     },
     "execution_count": 52,
     "metadata": {},
     "output_type": "execute_result"
    }
   ],
   "source": [
    "pw.course_name"
   ]
  },
  {
   "cell_type": "code",
   "execution_count": 53,
   "id": "0e63d378-6ba0-4586-90a4-a4405abefc7f",
   "metadata": {},
   "outputs": [],
   "source": [
    "class pwskills3:\n",
    "    def __init__(self ,course_price , course_name):\n",
    "        self.__course_price = course_price\n",
    "        self.course_name = course_name\n",
    "     \n",
    "    @property\n",
    "    def course_price_access(self):\n",
    "        return self.__course_price"
   ]
  },
  {
   "cell_type": "code",
   "execution_count": 54,
   "id": "d4b84b8d-ada0-4f73-a27a-f1b2bb7ffa65",
   "metadata": {},
   "outputs": [],
   "source": [
    "pw = pwskills3(3500,\"data science\")"
   ]
  },
  {
   "cell_type": "code",
   "execution_count": 55,
   "id": "e12274c7-c291-4fda-a548-2863caf74c25",
   "metadata": {},
   "outputs": [
    {
     "data": {
      "text/plain": [
       "3500"
      ]
     },
     "execution_count": 55,
     "metadata": {},
     "output_type": "execute_result"
    }
   ],
   "source": [
    "pw.course_price_access"
   ]
  },
  {
   "cell_type": "code",
   "execution_count": 79,
   "id": "fb03098a-af2b-45a8-8f77-024aee8a550c",
   "metadata": {},
   "outputs": [],
   "source": [
    "class pwskills4:\n",
    "    def __init__(self ,course_price , course_name):\n",
    "        self.__course_price = course_price\n",
    "        self.course_name = course_name\n",
    "     \n",
    "    @property\n",
    "    def course_price_access(self):\n",
    "        return self.__course_price\n",
    "    @course_price_access.setter\n",
    "    def course_price_set(self,price):\n",
    "        if price <= 3500:\n",
    "            pass\n",
    "        else:\n",
    "            self.__couse_price = price"
   ]
  },
  {
   "cell_type": "code",
   "execution_count": 80,
   "id": "72681d40-c9fd-478a-bf25-b875e7ba0fbc",
   "metadata": {},
   "outputs": [],
   "source": [
    "pw = pwskills4(3500,\"data science master\")"
   ]
  },
  {
   "cell_type": "code",
   "execution_count": 81,
   "id": "e687782c-5ea8-4f40-ab56-4d6abeb76524",
   "metadata": {},
   "outputs": [
    {
     "data": {
      "text/plain": [
       "3500"
      ]
     },
     "execution_count": 81,
     "metadata": {},
     "output_type": "execute_result"
    }
   ],
   "source": [
    "pw.course_price_access"
   ]
  },
  {
   "cell_type": "code",
   "execution_count": 82,
   "id": "93f86dc1-4992-46b8-a62e-0d94cb3f4469",
   "metadata": {},
   "outputs": [],
   "source": [
    "pw.course_price_set = 4300"
   ]
  },
  {
   "cell_type": "code",
   "execution_count": 83,
   "id": "7f9ad2a9-1a7f-4791-b93d-6353fb6f28d5",
   "metadata": {},
   "outputs": [
    {
     "data": {
      "text/plain": [
       "3500"
      ]
     },
     "execution_count": 83,
     "metadata": {},
     "output_type": "execute_result"
    }
   ],
   "source": [
    "pw.course_price_set"
   ]
  },
  {
   "cell_type": "code",
   "execution_count": 84,
   "id": "79fa4e3d-8dcd-45f2-b5b2-930269072cec",
   "metadata": {},
   "outputs": [],
   "source": [
    "# similarly\n",
    "#@course_price_access.deleter"
   ]
  },
  {
   "cell_type": "code",
   "execution_count": null,
   "id": "e2239a57-7824-4329-a53e-7c87688ec160",
   "metadata": {},
   "outputs": [],
   "source": []
  }
 ],
 "metadata": {
  "kernelspec": {
   "display_name": "Python 3 (ipykernel)",
   "language": "python",
   "name": "python3"
  },
  "language_info": {
   "codemirror_mode": {
    "name": "ipython",
    "version": 3
   },
   "file_extension": ".py",
   "mimetype": "text/x-python",
   "name": "python",
   "nbconvert_exporter": "python",
   "pygments_lexer": "ipython3",
   "version": "3.10.8"
  }
 },
 "nbformat": 4,
 "nbformat_minor": 5
}
