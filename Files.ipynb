{
 "cells": [
  {
   "cell_type": "code",
   "execution_count": 1,
   "id": "458067a7-d028-46b0-b0b7-3cd5a03a5ec2",
   "metadata": {},
   "outputs": [],
   "source": [
    "f = open(\"test.txt\" , 'w')"
   ]
  },
  {
   "cell_type": "code",
   "execution_count": 2,
   "id": "fbce2139-258b-4d4c-b77c-f36a7d0b0508",
   "metadata": {},
   "outputs": [
    {
     "data": {
      "text/plain": [
       "'/home/jovyan/work'"
      ]
     },
     "execution_count": 2,
     "metadata": {},
     "output_type": "execute_result"
    }
   ],
   "source": [
    "pwd"
   ]
  },
  {
   "cell_type": "code",
   "execution_count": 3,
   "id": "f67f8d1d-3bcb-4270-abe7-4d9059aa9647",
   "metadata": {},
   "outputs": [
    {
     "name": "stdout",
     "output_type": "stream",
     "text": [
      "'02nd feb assignment completed.ipynb'\n",
      "'05 feb assignment completed.ipynb'\n",
      "'29th assignment completed.ipynb'\n",
      "'30th jan assignment completed.ipynb'\n",
      "'3rd feb assignment completed.ipynb'\n",
      "'4th feb assignment completed.ipynb'\n",
      "'dict condition loop .ipynb'\n",
      " Files.ipynb\n",
      "'Generatorfunc lambdafunc map reduce filter.ipynb'\n",
      " list,tuple,set.ipynb\n",
      " loop.ipynb\n",
      " oops.ipynb\n",
      "'python basic.ipynb'\n",
      " README.md\n",
      " sample-code.ipynb\n",
      " test.txt\n",
      " Untitled.ipynb\n",
      "'while loop,comprehension and function.ipynb'\n"
     ]
    }
   ],
   "source": [
    "ls\n"
   ]
  },
  {
   "cell_type": "code",
   "execution_count": 4,
   "id": "b11b60e1-48be-416c-930e-71137dabbbe1",
   "metadata": {},
   "outputs": [
    {
     "name": "stdout",
     "output_type": "stream",
     "text": [
      "[Errno 2] No such file or directory: 'work'\n",
      "/home/jovyan/work\n"
     ]
    }
   ],
   "source": [
    "cd work"
   ]
  },
  {
   "cell_type": "code",
   "execution_count": 5,
   "id": "7d8f7993-f9e5-4bae-a497-86e19ed44618",
   "metadata": {},
   "outputs": [
    {
     "name": "stdout",
     "output_type": "stream",
     "text": [
      "'02nd feb assignment completed.ipynb'\n",
      "'05 feb assignment completed.ipynb'\n",
      "'29th assignment completed.ipynb'\n",
      "'30th jan assignment completed.ipynb'\n",
      "'3rd feb assignment completed.ipynb'\n",
      "'4th feb assignment completed.ipynb'\n",
      "'dict condition loop .ipynb'\n",
      " Files.ipynb\n",
      "'Generatorfunc lambdafunc map reduce filter.ipynb'\n",
      " list,tuple,set.ipynb\n",
      " loop.ipynb\n",
      " oops.ipynb\n",
      "'python basic.ipynb'\n",
      " README.md\n",
      " sample-code.ipynb\n",
      " test.txt\n",
      " Untitled.ipynb\n",
      "'while loop,comprehension and function.ipynb'\n"
     ]
    }
   ],
   "source": [
    "ls"
   ]
  },
  {
   "cell_type": "code",
   "execution_count": 6,
   "id": "e5977837-5947-460d-ab63-d77e5eef509b",
   "metadata": {},
   "outputs": [
    {
     "data": {
      "text/plain": [
       "23"
      ]
     },
     "execution_count": 6,
     "metadata": {},
     "output_type": "execute_result"
    }
   ],
   "source": [
    "f.write(\"sthis sis my first file\")"
   ]
  },
  {
   "cell_type": "code",
   "execution_count": 7,
   "id": "ccdae87f-b1b0-4f91-9979-73db67388be1",
   "metadata": {},
   "outputs": [],
   "source": [
    "f.close()"
   ]
  },
  {
   "cell_type": "code",
   "execution_count": 8,
   "id": "ed2fdc37-9794-4f53-a8cc-8fe962ee6869",
   "metadata": {},
   "outputs": [],
   "source": [
    "f = open(\"test.txt\" , 'w')"
   ]
  },
  {
   "cell_type": "code",
   "execution_count": 12,
   "id": "b60102a9-4194-45bc-b364-d0e6e642326d",
   "metadata": {},
   "outputs": [
    {
     "ename": "ValueError",
     "evalue": "I/O operation on closed file.",
     "output_type": "error",
     "traceback": [
      "\u001b[0;31m---------------------------------------------------------------------------\u001b[0m",
      "\u001b[0;31mValueError\u001b[0m                                Traceback (most recent call last)",
      "Cell \u001b[0;32mIn[12], line 1\u001b[0m\n\u001b[0;32m----> 1\u001b[0m \u001b[43mf\u001b[49m\u001b[38;5;241;43m.\u001b[39;49m\u001b[43mwrite\u001b[49m\u001b[43m(\u001b[49m\u001b[38;5;124;43m\"\u001b[39;49m\u001b[38;5;124;43mshubbham djfj\u001b[39;49m\u001b[38;5;124;43m\"\u001b[39;49m\u001b[43m)\u001b[49m\n",
      "\u001b[0;31mValueError\u001b[0m: I/O operation on closed file."
     ]
    }
   ],
   "source": [
    "f.write(\"shubbham djfj\")"
   ]
  },
  {
   "cell_type": "code",
   "execution_count": 13,
   "id": "558954e3-364a-4761-a7e9-fc38e2dfe4f4",
   "metadata": {},
   "outputs": [],
   "source": [
    "f.close()"
   ]
  },
  {
   "cell_type": "code",
   "execution_count": 14,
   "id": "908d7303-d8b9-4e91-8d9a-2af726e6d23d",
   "metadata": {},
   "outputs": [],
   "source": [
    "f = open(\"test.txt\" , 'a')"
   ]
  },
  {
   "cell_type": "code",
   "execution_count": 15,
   "id": "8d18a589-9e91-4199-ac5e-5a104874efc8",
   "metadata": {},
   "outputs": [
    {
     "data": {
      "text/plain": [
       "19"
      ]
     },
     "execution_count": 15,
     "metadata": {},
     "output_type": "execute_result"
    }
   ],
   "source": [
    "f.write(\"jdjfhs fdhsfdj djjd\")"
   ]
  },
  {
   "cell_type": "code",
   "execution_count": 16,
   "id": "48681062-2cf3-4f72-865d-c4bff1d14fa6",
   "metadata": {},
   "outputs": [],
   "source": [
    "f.close()"
   ]
  },
  {
   "cell_type": "code",
   "execution_count": 17,
   "id": "71e42069-df5a-4183-a9a0-8966c48000ce",
   "metadata": {},
   "outputs": [],
   "source": [
    "f = open(\"test.txt\" , 'r')"
   ]
  },
  {
   "cell_type": "code",
   "execution_count": 18,
   "id": "eb086461-fd1a-464d-97fc-0a41a6a53fb6",
   "metadata": {},
   "outputs": [
    {
     "data": {
      "text/plain": [
       "'shubbham djfjjdjfhs fdhsfdj djjd'"
      ]
     },
     "execution_count": 18,
     "metadata": {},
     "output_type": "execute_result"
    }
   ],
   "source": [
    "f.read()"
   ]
  },
  {
   "cell_type": "code",
   "execution_count": 19,
   "id": "4c19155c-033c-4752-bfc3-ca39fb968df3",
   "metadata": {},
   "outputs": [],
   "source": [
    "data = open(\"test.txt\" , 'r')"
   ]
  },
  {
   "cell_type": "code",
   "execution_count": 20,
   "id": "a2690ba1-a643-45b5-a344-978057ec92df",
   "metadata": {},
   "outputs": [
    {
     "data": {
      "text/plain": [
       "'shubbham djfjjdjfhs fdhsfdj djjd'"
      ]
     },
     "execution_count": 20,
     "metadata": {},
     "output_type": "execute_result"
    }
   ],
   "source": [
    "data.read()"
   ]
  },
  {
   "cell_type": "code",
   "execution_count": 21,
   "id": "f94bdc7f-ae33-4456-9683-641e4aaf41af",
   "metadata": {},
   "outputs": [
    {
     "data": {
      "text/plain": [
       "''"
      ]
     },
     "execution_count": 21,
     "metadata": {},
     "output_type": "execute_result"
    }
   ],
   "source": [
    "data.readline()"
   ]
  },
  {
   "cell_type": "code",
   "execution_count": 22,
   "id": "5d3e8fb5-8f26-401d-8f12-169300e10552",
   "metadata": {},
   "outputs": [
    {
     "data": {
      "text/plain": [
       "0"
      ]
     },
     "execution_count": 22,
     "metadata": {},
     "output_type": "execute_result"
    }
   ],
   "source": [
    "data.seek(0)"
   ]
  },
  {
   "cell_type": "code",
   "execution_count": 23,
   "id": "95268464-1151-4722-b2c9-ddf3e6c9df26",
   "metadata": {},
   "outputs": [
    {
     "data": {
      "text/plain": [
       "'shubbham djfjjdjfhs fdhsfdj djjd'"
      ]
     },
     "execution_count": 23,
     "metadata": {},
     "output_type": "execute_result"
    }
   ],
   "source": [
    "data.readline()"
   ]
  },
  {
   "cell_type": "code",
   "execution_count": 24,
   "id": "76061066-2295-4a7a-8bc0-bfff8f517f83",
   "metadata": {},
   "outputs": [
    {
     "data": {
      "text/plain": [
       "10"
      ]
     },
     "execution_count": 24,
     "metadata": {},
     "output_type": "execute_result"
    }
   ],
   "source": [
    "data.seek(10)"
   ]
  },
  {
   "cell_type": "code",
   "execution_count": 25,
   "id": "716b63d6-b32c-496e-bfd0-05063303226d",
   "metadata": {},
   "outputs": [
    {
     "data": {
      "text/plain": [
       "'jfjjdjfhs fdhsfdj djjd'"
      ]
     },
     "execution_count": 25,
     "metadata": {},
     "output_type": "execute_result"
    }
   ],
   "source": [
    "data.readline()"
   ]
  },
  {
   "cell_type": "code",
   "execution_count": 26,
   "id": "d3d12624-b70e-4479-a008-092fbb46571d",
   "metadata": {},
   "outputs": [],
   "source": [
    "data1 = open(\"test.txt\" , 'r')"
   ]
  },
  {
   "cell_type": "code",
   "execution_count": 27,
   "id": "26e10964-110c-4c87-b2d9-06675c647a4d",
   "metadata": {},
   "outputs": [
    {
     "name": "stdout",
     "output_type": "stream",
     "text": [
      "shubbham djfjjdjfhs fdhsfdj djjd\n"
     ]
    }
   ],
   "source": [
    "for i in data1:\n",
    "    print(i)"
   ]
  },
  {
   "cell_type": "code",
   "execution_count": 28,
   "id": "a33d8179-2a57-4695-be5a-8d3db81f7e3f",
   "metadata": {},
   "outputs": [],
   "source": [
    "import os"
   ]
  },
  {
   "cell_type": "code",
   "execution_count": 29,
   "id": "f076b15e-0285-4b62-82d2-76669a952793",
   "metadata": {},
   "outputs": [
    {
     "data": {
      "text/plain": [
       "32"
      ]
     },
     "execution_count": 29,
     "metadata": {},
     "output_type": "execute_result"
    }
   ],
   "source": [
    "os.path.getsize(\"test.txt\")"
   ]
  },
  {
   "cell_type": "code",
   "execution_count": 30,
   "id": "3b52cfd7-1827-4d3b-9386-45a28e04a753",
   "metadata": {},
   "outputs": [],
   "source": [
    "os.remove(\"test.txt\")"
   ]
  },
  {
   "cell_type": "code",
   "execution_count": 31,
   "id": "0fd61250-1ca5-4b28-8279-403f12558ff6",
   "metadata": {},
   "outputs": [],
   "source": [
    "f = open(\"test1.txt\",'w')"
   ]
  },
  {
   "cell_type": "code",
   "execution_count": 33,
   "id": "84dd80ec-917c-44b1-b4eb-62a2bf8bc0d2",
   "metadata": {},
   "outputs": [
    {
     "data": {
      "text/plain": [
       "718"
      ]
     },
     "execution_count": 33,
     "metadata": {},
     "output_type": "execute_result"
    }
   ],
   "source": [
    "f.write(\"Data Science Masters course is highly curated and uniquely designed according to the latest industry standards. This program instills students the skills essential to knowledge discovery efforts to identify standard, novel, and truly differentiated solutions and decision-making, including skills in managing, querying, analyzing, visualizing, and extracting meaning from extremely large data sets. This trending program provides students with the statistical, mathematical and computational skills needed to meet the large-scale data science challenges of today's professional world. You will learn all the stack required to work in data science industry including cloud infrastructure and real-time industry projects\")"
   ]
  },
  {
   "cell_type": "code",
   "execution_count": 34,
   "id": "ab15baba-4993-41fc-a8a5-f72542c94d69",
   "metadata": {},
   "outputs": [],
   "source": [
    "f.close()"
   ]
  },
  {
   "cell_type": "code",
   "execution_count": 35,
   "id": "ef2ff11a-02d2-44d2-a1ce-e4db2907fb55",
   "metadata": {},
   "outputs": [],
   "source": [
    "os.rename(\"test1.txt\" , \"new.txt\")"
   ]
  },
  {
   "cell_type": "code",
   "execution_count": 36,
   "id": "16339669-7af8-4152-a60e-e86e13138bd1",
   "metadata": {},
   "outputs": [],
   "source": [
    "import shutil"
   ]
  },
  {
   "cell_type": "code",
   "execution_count": 37,
   "id": "7d749d27-13cd-4694-8556-048168dd8aa8",
   "metadata": {},
   "outputs": [
    {
     "data": {
      "text/plain": [
       "'copy.txt'"
      ]
     },
     "execution_count": 37,
     "metadata": {},
     "output_type": "execute_result"
    }
   ],
   "source": [
    "shutil.copy(\"new.txt\",\"copy.txt\")"
   ]
  },
  {
   "cell_type": "code",
   "execution_count": 39,
   "id": "30cffb20-dd75-4272-814f-9d302f8465a0",
   "metadata": {},
   "outputs": [
    {
     "name": "stdout",
     "output_type": "stream",
     "text": [
      "Data Science Masters course is highly curated and uniquely designed according to the latest industry standards. This program instills students the skills essential to knowledge discovery efforts to identify standard, novel, and truly differentiated solutions and decision-making, including skills in managing, querying, analyzing, visualizing, and extracting meaning from extremely large data sets. This trending program provides students with the statistical, mathematical and computational skills needed to meet the large-scale data science challenges of today's professional world. You will learn all the stack required to work in data science industry including cloud infrastructure and real-time industry projects\n"
     ]
    }
   ],
   "source": [
    "with open(\"new.txt\" , \"r\") as f :\n",
    "    print(f.read())"
   ]
  },
  {
   "cell_type": "code",
   "execution_count": 1,
   "id": "346c29c6-d676-4748-8a5b-22adcd4a66a2",
   "metadata": {},
   "outputs": [],
   "source": [
    "# Reading and writing files"
   ]
  },
  {
   "cell_type": "code",
   "execution_count": 3,
   "id": "991a3edb-de29-4bcc-b135-62167368f16e",
   "metadata": {},
   "outputs": [],
   "source": [
    "data = {\"name\":\"shubha\",\"email_id\":\"shubh@gmail.com\",\"phon_num\":4645374,\"sub\":[\"datascince\",\"big data\",\"dataanalyst\"]}"
   ]
  },
  {
   "cell_type": "code",
   "execution_count": 4,
   "id": "6aee9383-a968-4042-8720-63d27cc74c70",
   "metadata": {},
   "outputs": [],
   "source": [
    "import json"
   ]
  },
  {
   "cell_type": "code",
   "execution_count": 5,
   "id": "31f9548a-c2f0-4011-8805-3757e5461fd0",
   "metadata": {},
   "outputs": [],
   "source": [
    "with open(\"data.json\",\"w\") as f:\n",
    "    json.dump(data , f)"
   ]
  },
  {
   "cell_type": "code",
   "execution_count": null,
   "id": "c8f1e2b3-0479-4c46-9a89-edd6a4cbab5b",
   "metadata": {},
   "outputs": [],
   "source": []
  },
  {
   "cell_type": "code",
   "execution_count": 6,
   "id": "8c99c3ec-d946-45a5-8308-660ab18da263",
   "metadata": {},
   "outputs": [],
   "source": [
    "with open(\"data.json\",\"r\") as f:\n",
    "    data1 = json.load(f)"
   ]
  },
  {
   "cell_type": "code",
   "execution_count": 7,
   "id": "c6cf15d7-be9f-4a10-9816-5a98090cd8e5",
   "metadata": {},
   "outputs": [
    {
     "data": {
      "text/plain": [
       "{'name': 'shubha',\n",
       " 'email_id': 'shubh@gmail.com',\n",
       " 'phon_num': 4645374,\n",
       " 'sub': ['datascince', 'big data', 'dataanalyst']}"
      ]
     },
     "execution_count": 7,
     "metadata": {},
     "output_type": "execute_result"
    }
   ],
   "source": [
    "data1"
   ]
  },
  {
   "cell_type": "code",
   "execution_count": 8,
   "id": "47ba72e4-6210-4b58-a16c-18b4e81ad479",
   "metadata": {},
   "outputs": [
    {
     "data": {
      "text/plain": [
       "'big data'"
      ]
     },
     "execution_count": 8,
     "metadata": {},
     "output_type": "execute_result"
    }
   ],
   "source": [
    "data['sub'][1]"
   ]
  },
  {
   "cell_type": "code",
   "execution_count": 9,
   "id": "3066a3ec-71d1-41be-b59b-5c00359a78ff",
   "metadata": {},
   "outputs": [],
   "source": [
    "import csv"
   ]
  },
  {
   "cell_type": "code",
   "execution_count": 20,
   "id": "0add2aa8-6ed8-4a97-836c-5111ff875883",
   "metadata": {},
   "outputs": [],
   "source": [
    "data = [[\"name\" , \"email_id\",\"phone_num\"],[\"shubh\",\"shub@gmail.com\",4747575],[\"sony\",\"soni@gmail.com\",77565656]]"
   ]
  },
  {
   "cell_type": "code",
   "execution_count": 21,
   "id": "c63c6064-4169-4e31-a072-a511689c44fb",
   "metadata": {},
   "outputs": [],
   "source": [
    "with open(\"data.csv\",\"w\") as f:\n",
    "     writer = csv.writer(f)\n",
    "    \n",
    "     for i in data:\n",
    "        writer.writerow(i)"
   ]
  },
  {
   "cell_type": "code",
   "execution_count": 22,
   "id": "0c8f2a0b-1b4c-4c7b-9b47-eec1e7b160e7",
   "metadata": {},
   "outputs": [
    {
     "name": "stdout",
     "output_type": "stream",
     "text": [
      "['name', 'email_id', 'phone_num']\n",
      "['shubh', 'shub@gmail.com', '4747575']\n",
      "['sony', 'soni@gmail.com', '77565656']\n"
     ]
    }
   ],
   "source": [
    "with open(\"data.csv\",\"r\") as f:\n",
    "    read_data = csv.reader(f)\n",
    "    \n",
    "    for i in read_data:\n",
    "        print(i)"
   ]
  },
  {
   "cell_type": "code",
   "execution_count": 25,
   "id": "8a2c8921-0f6e-41b9-9e8d-cf1efb1579cd",
   "metadata": {},
   "outputs": [],
   "source": [
    "with open(\"test.bin\" , \"wb\") as f:\n",
    "    f.write(b\"\\x01\\x02\\x03\")"
   ]
  },
  {
   "cell_type": "code",
   "execution_count": 26,
   "id": "2c2b19c8-801c-4469-ab02-4531d6611da4",
   "metadata": {},
   "outputs": [
    {
     "name": "stdout",
     "output_type": "stream",
     "text": [
      "b'\\x01\\x02\\x03'\n"
     ]
    }
   ],
   "source": [
    "with open(\"test.bin\" , \"rb\") as f:\n",
    "    print(f.read())"
   ]
  },
  {
   "cell_type": "code",
   "execution_count": 1,
   "id": "1bf0cc7f-4060-4059-80e2-eec3b4701ca9",
   "metadata": {},
   "outputs": [],
   "source": [
    "# Buffered Read and Write and other file methods"
   ]
  },
  {
   "cell_type": "code",
   "execution_count": 2,
   "id": "a146e12b-83f4-42a2-a8d2-f78b685b544b",
   "metadata": {},
   "outputs": [],
   "source": [
    "import io"
   ]
  },
  {
   "cell_type": "code",
   "execution_count": 11,
   "id": "56b19f32-e727-44fb-b78b-f9c3a196e832",
   "metadata": {},
   "outputs": [],
   "source": [
    "with open(\"test2.txt\" , \"wb\") as f:\n",
    "    file = io.BufferedWriter(f)\n",
    "    file.write(b\"Data Science Masters course is highly curated and uniquely designed according to the latest industry standards. This program instills students the skills essential to knowledge discovery efforts to identify standard, novel, and truly differentiated solutions and decision-making, including skills in managing, querying, analyzing, visualizing, and extracting meaning from extremely large data sets. This trending program provides students with the statistical, mathematical and computational skills needed to meet the large-scale data science challenges of today's professional world. You will learn all the stack required to work in data science industry including cloud infrastructure and real-time industry projects. This course will be taught in Hindi language.\\n\")\n",
    "    file.write(b\"that is you\\n\")\n",
    "    file.flush()"
   ]
  },
  {
   "cell_type": "code",
   "execution_count": 12,
   "id": "e49440a6-c516-4dfc-bb78-96840f9f4919",
   "metadata": {},
   "outputs": [
    {
     "name": "stdout",
     "output_type": "stream",
     "text": [
      "b\"Data Science Masters course is highly curated and uniquely designed according to the latest industry standards. This program instills students the skills essential to knowledge discovery efforts to identify standard, novel, and truly differentiated solutions and decision-making, including skills in managing, querying, analyzing, visualizing, and extracting meaning from extremely large data sets. This trending program provides students with the statistical, mathematical and computational skills needed to meet the large-scale data science challenges of today's professional world. You will learn all the stack required to work in data science industry including cloud infrastructure and real-time industry projects. This course will be taught in Hindi language.\\nthat is you\\n\"\n"
     ]
    }
   ],
   "source": [
    "with open(\"test2.txt\",\"rb\") as f:\n",
    "    file = io.BufferedReader(f)\n",
    "    data = file.read()\n",
    "    print(data)"
   ]
  },
  {
   "cell_type": "code",
   "execution_count": 13,
   "id": "0fa36809-224a-4993-a5a8-27b857e060f3",
   "metadata": {},
   "outputs": [],
   "source": [
    "# logging and debugger"
   ]
  },
  {
   "cell_type": "code",
   "execution_count": 14,
   "id": "3554a78b-0007-4aba-b79e-dee1cdead229",
   "metadata": {},
   "outputs": [
    {
     "name": "stdout",
     "output_type": "stream",
     "text": [
      "this is my print\n"
     ]
    }
   ],
   "source": [
    "print(\"this is my print\")"
   ]
  },
  {
   "cell_type": "code",
   "execution_count": 2,
   "id": "a22ec653-6ee1-4860-9f15-c4f3bd1daafc",
   "metadata": {},
   "outputs": [],
   "source": [
    "import logging"
   ]
  },
  {
   "cell_type": "code",
   "execution_count": 14,
   "id": "c1091946-7434-4e37-82fd-bd63fa77c061",
   "metadata": {},
   "outputs": [],
   "source": [
    "logging.basicConfig(filename = \"test0.log\" , level = logging.INFO)"
   ]
  },
  {
   "cell_type": "code",
   "execution_count": 15,
   "id": "cb52cd98-ff30-4226-a640-fe1593629ba9",
   "metadata": {},
   "outputs": [],
   "source": [
    "logging.info(\"log this line of execution\")"
   ]
  },
  {
   "cell_type": "code",
   "execution_count": null,
   "id": "8ed37715-d9a0-4a7d-8aea-8b2ad2f06f65",
   "metadata": {},
   "outputs": [],
   "source": []
  },
  {
   "cell_type": "code",
   "execution_count": 16,
   "id": "6da3f4e6-92a7-4000-8561-5f8def44c526",
   "metadata": {},
   "outputs": [],
   "source": [
    "logging.info(\"this is my print\")"
   ]
  },
  {
   "cell_type": "code",
   "execution_count": 17,
   "id": "c1c95617-584c-4c1e-b822-f37f72790f18",
   "metadata": {},
   "outputs": [],
   "source": [
    "logging.debug(\"print this\")"
   ]
  },
  {
   "cell_type": "code",
   "execution_count": 18,
   "id": "d613e300-28c3-4c34-b009-9bc45e9a9269",
   "metadata": {},
   "outputs": [],
   "source": [
    "logging.warning(\"this is warning\")"
   ]
  },
  {
   "cell_type": "code",
   "execution_count": 19,
   "id": "abe020f4-c510-43f3-a97f-095098dfd6f9",
   "metadata": {},
   "outputs": [],
   "source": [
    "logging.error(\"this is my error\")"
   ]
  },
  {
   "cell_type": "code",
   "execution_count": 40,
   "id": "9b8e8e87-e844-40fe-8ef7-20a993f185c8",
   "metadata": {},
   "outputs": [],
   "source": [
    "logging.critical(\"this is my critical msg\")"
   ]
  },
  {
   "cell_type": "code",
   "execution_count": 41,
   "id": "54bfadce-c135-47e4-8e82-f3731d11ac60",
   "metadata": {},
   "outputs": [],
   "source": [
    "logging.shutdown()"
   ]
  },
  {
   "cell_type": "code",
   "execution_count": 10,
   "id": "ca96da07-41c7-4583-8e37-97d8f366697f",
   "metadata": {},
   "outputs": [
    {
     "ename": "SyntaxError",
     "evalue": "invalid decimal literal (3640453106.py, line 1)",
     "output_type": "error",
     "traceback": [
      "\u001b[0;36m  Cell \u001b[0;32mIn[10], line 1\u001b[0;36m\u001b[0m\n\u001b[0;31m    1.NOTSET\u001b[0m\n\u001b[0m     ^\u001b[0m\n\u001b[0;31mSyntaxError\u001b[0m\u001b[0;31m:\u001b[0m invalid decimal literal\n"
     ]
    }
   ],
   "source": [
    "        1.NOTSET\n",
    "        2. DEBUG\n",
    "        3. WARNING\n",
    "        4. ERROR\n",
    "        5. CRITICAL"
   ]
  },
  {
   "cell_type": "code",
   "execution_count": 43,
   "id": "0e062ea1-ce1b-470b-96cb-3e1296faba93",
   "metadata": {},
   "outputs": [],
   "source": [
    "import logging"
   ]
  },
  {
   "cell_type": "code",
   "execution_count": 44,
   "id": "446a3111-0682-48c9-8665-038b25782c15",
   "metadata": {},
   "outputs": [],
   "source": [
    "logging.basicConfig(filename = \"shu.log\",level = logging.DEBUG , format = '%(asctime)s %(message)s')"
   ]
  },
  {
   "cell_type": "code",
   "execution_count": 45,
   "id": "9e3e9a01-79fa-4537-a491-7bd0d81c8d07",
   "metadata": {},
   "outputs": [],
   "source": [
    "logging.info(\"this is my info logging\")\n",
    "logging.error(\"this is error\")\n",
    "logging.critical(\"this is critical\")"
   ]
  },
  {
   "cell_type": "code",
   "execution_count": 42,
   "id": "39ebae87-5022-4f17-a8a8-b456b70593d5",
   "metadata": {},
   "outputs": [],
   "source": [
    "logging.shutdown()"
   ]
  },
  {
   "cell_type": "code",
   "execution_count": 2,
   "id": "124f55b0-437e-43a9-b499-1012ebdd63fe",
   "metadata": {},
   "outputs": [],
   "source": [
    "import logging"
   ]
  },
  {
   "cell_type": "code",
   "execution_count": 3,
   "id": "8f651df9-3733-4a0f-9847-4be679432db0",
   "metadata": {},
   "outputs": [],
   "source": [
    "logging.basicConfig(filename = \"tec.log\" , level = logging.DEBUG , format = '%(asctime)s %(name)s %(levelname)s %(message)s')"
   ]
  },
  {
   "cell_type": "code",
   "execution_count": 4,
   "id": "c0bded61-6c8c-4d2c-9c85-e7d690973d5d",
   "metadata": {},
   "outputs": [],
   "source": [
    "logging.info(\"this is my info logging\")\n",
    "logging.error(\"this is error\")\n",
    "logging.critical(\"this is critical\")"
   ]
  },
  {
   "cell_type": "code",
   "execution_count": 5,
   "id": "15c11f75-4af9-4449-96ec-9d1f0f7365b2",
   "metadata": {},
   "outputs": [],
   "source": [
    "logging.shutdown()"
   ]
  },
  {
   "cell_type": "code",
   "execution_count": 1,
   "id": "39b4cf48-5f3e-4402-8ca2-db8affed30b4",
   "metadata": {},
   "outputs": [],
   "source": [
    "import logging"
   ]
  },
  {
   "cell_type": "code",
   "execution_count": 2,
   "id": "00035263-29c3-4c45-bd09-a8d635dba665",
   "metadata": {},
   "outputs": [],
   "source": [
    "logging.basicConfig(filename =\"tech.log\" , level = logging.DEBUG , format = '%(asctime)s %(name)s %(levelname)s %(message)s')"
   ]
  },
  {
   "cell_type": "code",
   "execution_count": 3,
   "id": "025891e3-f3fb-452e-8fb3-fa8de726a5e2",
   "metadata": {},
   "outputs": [],
   "source": [
    "logging.info(\"this is my info logging\")\n",
    "logging.error(\"this is error\")\n",
    "logging.critical(\"this is critical\")"
   ]
  },
  {
   "cell_type": "code",
   "execution_count": 14,
   "id": "a4a3c20c-7a6b-44db-b5a3-69f6b2cb0683",
   "metadata": {},
   "outputs": [],
   "source": [
    "l = [1,2,3,4,5,5,[5,6,7,7],\"shubh\",\"gupta\"]"
   ]
  },
  {
   "cell_type": "code",
   "execution_count": 15,
   "id": "ed8c306b-aaa5-491b-876d-5d668e79bdc2",
   "metadata": {},
   "outputs": [],
   "source": [
    "l1_int = []\n",
    "l2_str = []\n",
    "for i in l :\n",
    "    if type(i) == list :\n",
    "        for j in i :\n",
    "            if type(j) == int:\n",
    "                l1_int.append(j)\n",
    "    elif type(i) == int :\n",
    "        l1_int.append(i)\n",
    "    else :\n",
    "        if type(i) == str:\n",
    "            l2_str.append(i)\n",
    "                "
   ]
  },
  {
   "cell_type": "code",
   "execution_count": 16,
   "id": "e5e2cb7a-6f98-42e7-9e6d-5d48b0f7c382",
   "metadata": {},
   "outputs": [
    {
     "data": {
      "text/plain": [
       "[1, 2, 3, 4, 5, 5, 5, 6, 7, 7]"
      ]
     },
     "execution_count": 16,
     "metadata": {},
     "output_type": "execute_result"
    }
   ],
   "source": [
    "l1_int"
   ]
  },
  {
   "cell_type": "code",
   "execution_count": 17,
   "id": "2561882b-2dee-45a1-b35a-d341b8bca1d9",
   "metadata": {},
   "outputs": [
    {
     "data": {
      "text/plain": [
       "['shubh', 'gupta']"
      ]
     },
     "execution_count": 17,
     "metadata": {},
     "output_type": "execute_result"
    }
   ],
   "source": [
    "l2_str"
   ]
  },
  {
   "cell_type": "code",
   "execution_count": 20,
   "id": "794826f5-641f-4c72-9909-e6e75008c7b7",
   "metadata": {},
   "outputs": [],
   "source": [
    "l1_int = []\n",
    "l2_str = []\n",
    "for i in l :\n",
    "    logging.info(\"we are iterating through our list and our var is {}\".format(l))\n",
    "    if type(i) == list :\n",
    "        logging.info(\"i am inside if statement and i am trying to check list type\"+ str(i))\n",
    "        for j in i :\n",
    "            logging.info(\"i am in other loop for list inside list element\")\n",
    "            if type(j) == int:\n",
    "                logging.info(\"i am inside if statement\")\n",
    "                l1_int.append(j)\n",
    "    elif type(i) == int :\n",
    "        l1_int.append(i)\n",
    "    else :\n",
    "        if type(i) == str:\n",
    "            l2_str.append(i)\n",
    "            \n",
    "logging.info(\"my final result for int is {l1} and str is {l2}\".format(l1 = l1_int , l2 = l2_str))"
   ]
  },
  {
   "cell_type": "code",
   "execution_count": 12,
   "id": "435f0531-a718-4c5f-8aee-23e4ed1cddb0",
   "metadata": {},
   "outputs": [
    {
     "name": "stdout",
     "output_type": "stream",
     "text": [
      "['BASIC_FORMAT', 'BufferingFormatter', 'CRITICAL', 'DEBUG', 'ERROR', 'FATAL', 'FileHandler', 'Filter', 'Filterer', 'Formatter', 'Handler', 'INFO', 'LogRecord', 'Logger', 'LoggerAdapter', 'Manager', 'NOTSET', 'NullHandler', 'PercentStyle', 'PlaceHolder', 'RootLogger', 'StrFormatStyle', 'StreamHandler', 'StringTemplateStyle', 'Template', 'WARN', 'WARNING', '_STYLES', '_StderrHandler', '__all__', '__author__', '__builtins__', '__cached__', '__date__', '__doc__', '__file__', '__loader__', '__name__', '__package__', '__path__', '__spec__', '__status__', '__version__', '_acquireLock', '_addHandlerRef', '_after_at_fork_child_reinit_locks', '_at_fork_reinit_lock_weakset', '_checkLevel', '_defaultFormatter', '_defaultLastResort', '_handlerList', '_handlers', '_levelToName', '_lock', '_logRecordFactory', '_loggerClass', '_nameToLevel', '_register_at_fork_reinit_lock', '_releaseLock', '_removeHandlerRef', '_showwarning', '_srcfile', '_startTime', '_str_formatter', '_warnings_showwarning', 'addLevelName', 'atexit', 'basicConfig', 'captureWarnings', 'collections', 'config', 'critical', 'currentframe', 'debug', 'disable', 'error', 'exception', 'fatal', 'getLevelName', 'getLogRecordFactory', 'getLogger', 'getLoggerClass', 'handlers', 'info', 'io', 'lastResort', 'log', 'logMultiprocessing', 'logProcesses', 'logThreads', 'makeLogRecord', 'os', 'raiseExceptions', 're', 'root', 'setLogRecordFactory', 'setLoggerClass', 'shutdown', 'sys', 'threading', 'time', 'traceback', 'warn', 'warning', 'warnings', 'weakref']\n"
     ]
    }
   ],
   "source": [
    "import logging\n",
    "print(dir(logging))"
   ]
  },
  {
   "cell_type": "code",
   "execution_count": null,
   "id": "2a62e400-fad9-4c4f-bae7-38aea3e0f009",
   "metadata": {},
   "outputs": [],
   "source": []
  }
 ],
 "metadata": {
  "kernelspec": {
   "display_name": "Python 3 (ipykernel)",
   "language": "python",
   "name": "python3"
  },
  "language_info": {
   "codemirror_mode": {
    "name": "ipython",
    "version": 3
   },
   "file_extension": ".py",
   "mimetype": "text/x-python",
   "name": "python",
   "nbconvert_exporter": "python",
   "pygments_lexer": "ipython3",
   "version": "3.10.8"
  }
 },
 "nbformat": 4,
 "nbformat_minor": 5
}
